{
 "cells": [
  {
   "cell_type": "code",
   "execution_count": 1,
   "id": "2c9dbcec",
   "metadata": {},
   "outputs": [
    {
     "data": {
      "text/html": [
       "\n",
       "        <iframe\n",
       "            width=\"1000\"\n",
       "            height=\"400\"\n",
       "            src=\"https://ipywidgets.readthedocs.io/en/latest/examples/Widget%20List.html\"\n",
       "            frameborder=\"0\"\n",
       "            allowfullscreen\n",
       "            \n",
       "        ></iframe>\n",
       "        "
      ],
      "text/plain": [
       "<IPython.lib.display.IFrame at 0x1ce2a91c880>"
      ]
     },
     "metadata": {},
     "output_type": "display_data"
    }
   ],
   "source": [
    "from IPython.display import IFrame\n",
    "documentation = IFrame(src='https://ipywidgets.readthedocs.io/en/latest/examples/Widget%20List.html', \n",
    "                       width=1000, \n",
    "                       height=400)\n",
    "display(documentation)"
   ]
  },
  {
   "cell_type": "code",
   "execution_count": 2,
   "id": "20cfa435",
   "metadata": {},
   "outputs": [
    {
     "data": {
      "application/vnd.jupyter.widget-view+json": {
       "model_id": "8e3495ffa87c4a60979cd4d09544d141",
       "version_major": 2,
       "version_minor": 0
      },
      "text/plain": [
       "IntProgress(value=0, max=1000)"
      ]
     },
     "metadata": {},
     "output_type": "display_data"
    },
    {
     "name": "stdout",
     "output_type": "stream",
     "text": [
      "Процесс завершен\n"
     ]
    }
   ],
   "source": [
    "from ipywidgets import IntProgress\n",
    "from IPython.display import display\n",
    "import time\n",
    "\n",
    "prgBar = IntProgress(min = 0, max = 1000) # Прогрессбар\n",
    "display(prgBar)\n",
    "\n",
    "while prgBar.value < prgBar.max:\n",
    "    prgBar.value = prgBar.value + 50\n",
    "    time.sleep(0.1)\n",
    "    \n",
    "print('Процесс завершен')"
   ]
  },
  {
   "cell_type": "code",
   "execution_count": 3,
   "id": "bd5e203e",
   "metadata": {},
   "outputs": [
    {
     "data": {
      "application/vnd.jupyter.widget-view+json": {
       "model_id": "d86886cf6f7c43a9aa00080f9bb02d22",
       "version_major": 2,
       "version_minor": 0
      },
      "text/plain": [
       "Button(button_style='success', description='Кнопка', style=ButtonStyle())"
      ]
     },
     "metadata": {},
     "output_type": "display_data"
    }
   ],
   "source": [
    "from ipywidgets import Button\n",
    "button1 = Button(description=\"Кнопка\", \n",
    "                        button_style='success' # 'success', 'info', 'warning', 'danger', ''\n",
    "                        )\n",
    "\n",
    "def on_button_clicked(b):\n",
    "    print(\"Нажатие\")\n",
    "\n",
    "button1.on_click(on_button_clicked) # Назначаем этот обработчик на событие \"on_click\"\n",
    "\n",
    "display(button1)"
   ]
  },
  {
   "cell_type": "code",
   "execution_count": 4,
   "id": "ee5cf01d",
   "metadata": {},
   "outputs": [
    {
     "data": {
      "application/vnd.jupyter.widget-view+json": {
       "model_id": "36993cbff25e427f92ce779060f151d7",
       "version_major": 2,
       "version_minor": 0
      },
      "text/plain": [
       "FloatSlider(value=7.5, continuous_update=False, description='Параметр:', max=10.0)"
      ]
     },
     "metadata": {},
     "output_type": "display_data"
    }
   ],
   "source": [
    "from ipywidgets import FloatSlider\n",
    "\n",
    "fSlider = FloatSlider(\n",
    "    value=7.5, # Первоначальное значение\n",
    "    min=0,\n",
    "    max=10.0,\n",
    "    step=0.1,  # Шаг изменения\n",
    "    description='Параметр:',\n",
    "    continuous_update=False,  # True - событие observe возникает для каждого шага при изменении значения\n",
    "    orientation='horizontal'  # Горизонтальное или вертикальное расположение\n",
    ")\n",
    "\n",
    "def on_value_change(b):\n",
    "    print(b['old'], '->', b['new'])\n",
    "\n",
    "fSlider.observe(on_value_change, names='value')\n",
    "display(fSlider)"
   ]
  },
  {
   "cell_type": "code",
   "execution_count": 5,
   "id": "0793cd12",
   "metadata": {},
   "outputs": [
    {
     "data": {
      "application/vnd.jupyter.widget-view+json": {
       "model_id": "2b2af671ca7040e6bea1070b5eb340d3",
       "version_major": 2,
       "version_minor": 0
      },
      "text/plain": [
       "interactive(children=(IntSlider(value=5, description='number', max=10, min=1), Output()), _dom_classes=('widge…"
      ]
     },
     "metadata": {},
     "output_type": "display_data"
    }
   ],
   "source": [
    "import ipywidgets\n",
    "@ipywidgets.interact(number=(1,10))\n",
    "def square3(number):\n",
    "    return number*number"
   ]
  },
  {
   "cell_type": "code",
   "execution_count": 6,
   "id": "edb745b5",
   "metadata": {},
   "outputs": [
    {
     "data": {
      "application/vnd.jupyter.widget-view+json": {
       "model_id": "6fd9ff2f52b34ef2b64c88f2f503cb69",
       "version_major": 2,
       "version_minor": 0
      },
      "text/plain": [
       "interactive(children=(Button(description='Run Interact', style=ButtonStyle()), Output()), _dom_classes=('widge…"
      ]
     },
     "metadata": {},
     "output_type": "display_data"
    }
   ],
   "source": [
    "import random\n",
    "from PIL import Image\n",
    "\n",
    "@ipywidgets.interact_manual()\n",
    "def random_choice():\n",
    "    flower = Image.open('img.jpg')\n",
    "    r, g, b = flower.split()\n",
    "    x = random.choice([r, g, b])\n",
    "    y = random.choice([r, g, b])\n",
    "    z = random.choice([r, g, b])\n",
    "    flower_color = Image.merge('RGB', (x, y, z))\n",
    "    flower_color.show()"
   ]
  },
  {
   "cell_type": "code",
   "execution_count": 7,
   "id": "fdb9d478",
   "metadata": {},
   "outputs": [],
   "source": [
    "b1 = ipywidgets.Button(description='button 1', button_style='success')\n",
    "b2 = ipywidgets.Button(description='button 2', button_style='success')\n",
    "b3 = ipywidgets.Button(description='button 3', button_style='success')\n",
    "\n",
    "def on_button_clicked1(b): # Описываем обработчик события\n",
    "    print(\"Нажатие 1\")\n",
    "\n",
    "b1.on_click(on_button_clicked1)\n",
    "\n",
    "def on_button_clicked2(b): # Описываем обработчик события\n",
    "    print(\"Нажатие 2\")\n",
    "\n",
    "b2.on_click(on_button_clicked2)\n",
    "\n",
    "def on_button_clicked3(b): # Описываем обработчик события\n",
    "    print(\"Нажатие 3\")\n",
    "\n",
    "b3.on_click(on_button_clicked3)"
   ]
  },
  {
   "cell_type": "code",
   "execution_count": 8,
   "id": "13699778",
   "metadata": {},
   "outputs": [
    {
     "data": {
      "application/vnd.jupyter.widget-view+json": {
       "model_id": "4a9c5ea6a6484b6cb6bc3e3f7f12c20d",
       "version_major": 2,
       "version_minor": 0
      },
      "text/plain": [
       "HBox(children=(Button(button_style='success', description='button 1', style=ButtonStyle()), Button(button_styl…"
      ]
     },
     "metadata": {},
     "output_type": "display_data"
    }
   ],
   "source": [
    "ipywidgets.HBox([b1, b2, b3])"
   ]
  },
  {
   "cell_type": "code",
   "execution_count": 9,
   "id": "38f2bd92",
   "metadata": {},
   "outputs": [
    {
     "data": {
      "application/vnd.jupyter.widget-view+json": {
       "model_id": "6a26d7f920694ba9bfddf4d27e0eafc1",
       "version_major": 2,
       "version_minor": 0
      },
      "text/plain": [
       "Dropdown(description='Цвет:', index=1, options=(('Красный', 1), ('Желтый', 2), ('Зеленый', 3)), value=2)"
      ]
     },
     "metadata": {},
     "output_type": "display_data"
    }
   ],
   "source": [
    "dropdown1 = ipywidgets.Dropdown(\n",
    "    options=[('Красный', 1), ('Желтый', 2), ('Зеленый', 3)],\n",
    "    value=2,\n",
    "    description='Цвет:' \n",
    ")\n",
    "\n",
    "def on_button_clicked(b):\n",
    "    print(b['old'], '->', b['new'])\n",
    "\n",
    "dropdown1.observe(on_button_clicked, names='value')\n",
    "display(dropdown1)"
   ]
  },
  {
   "cell_type": "markdown",
   "id": "2b09b135",
   "metadata": {},
   "source": [
    "Примеры окна"
   ]
  },
  {
   "cell_type": "code",
   "execution_count": 10,
   "id": "dc218ab9",
   "metadata": {},
   "outputs": [
    {
     "data": {
      "application/vnd.jupyter.widget-view+json": {
       "model_id": "ce18f250eba442a5859077cde5d667fb",
       "version_major": 2,
       "version_minor": 0
      },
      "text/plain": [
       "VBox(children=(Dropdown(description='Категория задачи:', index=1, options=(('training', 1), ('testing', 2), ('…"
      ]
     },
     "metadata": {},
     "output_type": "display_data"
    }
   ],
   "source": [
    "style = {'description_width': '200px', 'width' : '500px'}\n",
    "a1 = ipywidgets.Dropdown(\n",
    "    options=[('training', 1), ('testing', 2), ('database', 3), ('history', 4)],\n",
    "    value=2,\n",
    "    description='Категория задачи:',\n",
    "    style = style\n",
    ")\n",
    "\n",
    "def on_button_clicked1(b):\n",
    "    print('Список 1:', b['old'], '->', b['new'])\n",
    "    \n",
    "a2 = ipywidgets.Dropdown(\n",
    "    options=[('classification', 1), ('segmentation', 2), ('detection', 3)],\n",
    "    value=2,\n",
    "    description='Тип задачи:',\n",
    "    style = style\n",
    ")\n",
    "\n",
    "def on_button_clicked2(b):\n",
    "    print('Список 2:', b['old'], '->', b['new'])\n",
    "    \n",
    "a3 = ipywidgets.Dropdown(\n",
    "    options=[('cats', 1), ('dogs', 2)],\n",
    "    value=2,\n",
    "    description='Категория объектов интереса:',\n",
    "    style = style\n",
    ")\n",
    "\n",
    "def on_button_clicked3(b):\n",
    "    print('Список 3:', b['old'], '->', b['new'])\n",
    "    \n",
    "a4 = ipywidgets.Dropdown(\n",
    "    options=[('loss', 1), ('metrics', 2)],\n",
    "    value=2,\n",
    "    description='Цель:',\n",
    "    style = style\n",
    ")\n",
    "\n",
    "def on_button_clicked4(b):\n",
    "    print('Список 4:', b['old'], '->', b['new'])\n",
    "    \n",
    "a5 = ipywidgets.BoundedFloatText(\n",
    "    value=0.7,\n",
    "    min=0,\n",
    "    max=1,\n",
    "    step=0.05,\n",
    "    description='Значение цели:',\n",
    "    disabled=False,\n",
    "    style = style\n",
    ")\n",
    "\n",
    "a1.observe(on_button_clicked1, names='value')\n",
    "a2.observe(on_button_clicked2, names='value')\n",
    "a3.observe(on_button_clicked3, names='value')\n",
    "a4.observe(on_button_clicked4, names='value')\n",
    "\n",
    "f1 = ipywidgets.VBox([a1, a2, a3, a4, a5])\n",
    "f1"
   ]
  },
  {
   "cell_type": "code",
   "execution_count": 11,
   "id": "bbde949b",
   "metadata": {},
   "outputs": [
    {
     "data": {
      "text/plain": [
       "['_model_module',\n",
       " '_model_module_version',\n",
       " '_model_name',\n",
       " '_view_count',\n",
       " '_view_module',\n",
       " '_view_module_version',\n",
       " '_view_name',\n",
       " 'description_width']"
      ]
     },
     "execution_count": 11,
     "metadata": {},
     "output_type": "execute_result"
    }
   ],
   "source": [
    "a2.style.keys"
   ]
  },
  {
   "cell_type": "code",
   "execution_count": 12,
   "id": "ea74ba7d",
   "metadata": {},
   "outputs": [
    {
     "data": {
      "application/vnd.jupyter.widget-view+json": {
       "model_id": "fd0a50d1b78e473f9df546a692d6d881",
       "version_major": 2,
       "version_minor": 0
      },
      "text/plain": [
       "VBox(children=(HBox(children=(VBox(children=(Label(value='Приёмы:'), Button(description='Выбрать другую страте…"
      ]
     },
     "metadata": {},
     "output_type": "display_data"
    }
   ],
   "source": [
    "style = {'button_color': 'rgb(0,140,255)'}\n",
    "c1 = ipywidgets.Button(\n",
    "    description='Выбрать другую стратегию (из истории системы)',\n",
    "    disabled=False,\n",
    "    button_style='', # 'success', 'info', 'warning', 'danger' or ''\n",
    "    tooltip='Click me',\n",
    "    layout=ipywidgets.Layout(width='500px', height='28px'),\n",
    "    style = style\n",
    ")\n",
    "c2 = ipywidgets.Button(\n",
    "    description='Вручную задать параметры обучения',\n",
    "    disabled=False,\n",
    "    button_style='', # 'success', 'info', 'warning', 'danger' or ''\n",
    "    tooltip='Click me',\n",
    "    layout=ipywidgets.Layout(width='500px', height='28px'),\n",
    "    style = style\n",
    ")\n",
    "c3 = ipywidgets.Button(\n",
    "    description='Обучение по сетке',\n",
    "    disabled=False,\n",
    "    button_style='', # 'success', 'info', 'warning', 'danger' or ''\n",
    "    tooltip='Click me',\n",
    "    layout=ipywidgets.Layout(width='500px', height='28px'),\n",
    "    style = style\n",
    ")\n",
    "c4 = ipywidgets.Button(\n",
    "    description='Изменить архитектуру модели (случайно\\по истории\\по спец. технологии)',\n",
    "    disabled=False,\n",
    "    button_style='', # 'success', 'info', 'warning', 'danger' or ''\n",
    "    tooltip='Click me',\n",
    "    layout=ipywidgets.Layout(width='500px', height='28px'),\n",
    "    style = style\n",
    ")\n",
    "c5 = ipywidgets.Button(\n",
    "    description='изменить расписание скорости обучения',\n",
    "    disabled=False,\n",
    "    button_style='', # 'success', 'info', 'warning', 'danger' or ''\n",
    "    tooltip='Click me',\n",
    "    layout=ipywidgets.Layout(width='500px', height='28px'),\n",
    "    style = style\n",
    ")\n",
    "d1 = ipywidgets.VBox([ipywidgets.Label('Приёмы:'), c1, c2, c3, c4, c5])\n",
    "e1 = ipywidgets.FloatText(\n",
    "    value=0.5,\n",
    "    disabled=False,\n",
    "    layout=ipywidgets.Layout(width='80px', height='28px')\n",
    ")\n",
    "e2 = ipywidgets.FloatText(\n",
    "    value=0.5,\n",
    "    disabled=False,\n",
    "    layout=ipywidgets.Layout(width='80px', height='28px')\n",
    ")\n",
    "e3 = ipywidgets.FloatText(\n",
    "    value=0.5,\n",
    "    disabled=False,\n",
    "    layout=ipywidgets.Layout(width='80px', height='28px')\n",
    ")\n",
    "e4 = ipywidgets.FloatText(\n",
    "    value=0.5,\n",
    "    disabled=False,\n",
    "    layout=ipywidgets.Layout(width='80px', height='28px')\n",
    ")\n",
    "e5 = ipywidgets.FloatText(\n",
    "    value=0.5,\n",
    "    disabled=False,\n",
    "    layout=ipywidgets.Layout(width='80px', height='28px')\n",
    ")\n",
    "d2 = ipywidgets.VBox([ipywidgets.Label('Текущее распределение вероятности «успеха»'), e1, e2, e3, e4, e5])\n",
    "d3 = ipywidgets.HBox([d1, d2])\n",
    "c6 = ipywidgets.Button(\n",
    "    description='Случайный прием',\n",
    "    disabled=False,\n",
    "    button_style='', # 'success', 'info', 'warning', 'danger' or ''\n",
    "    tooltip='Click me',\n",
    "    layout=ipywidgets.Layout(width='200px', height='50px'),\n",
    "    style = {'button_color': 'rgb(204,0,255)'}\n",
    ")\n",
    "c7 = ipywidgets.Button(\n",
    "    description='Закончить обучение',\n",
    "    disabled=False,\n",
    "    button_style='', # 'success', 'info', 'warning', 'danger' or ''\n",
    "    tooltip='Click me',\n",
    "    layout=ipywidgets.Layout(width='200px', height='50px'),\n",
    "    style = {'button_color': 'rgb(255,119,0)'}\n",
    ")\n",
    "d4 = ipywidgets.HBox([c6, c7])\n",
    "d5 = ipywidgets.VBox([d3, d4])\n",
    "d5"
   ]
  },
  {
   "cell_type": "code",
   "execution_count": 13,
   "id": "7e86263d",
   "metadata": {},
   "outputs": [
    {
     "data": {
      "application/vnd.jupyter.widget-view+json": {
       "model_id": "a38bd0b47ebc403289f973acba179aa3",
       "version_major": 2,
       "version_minor": 0
      },
      "text/plain": [
       "VBox(children=(Dropdown(description='Параметры базы данных:', index=1, options=(('classification', 1), ('segme…"
      ]
     },
     "metadata": {},
     "output_type": "display_data"
    }
   ],
   "source": [
    "a7 = ipywidgets.Dropdown(\n",
    "    options=[('classification', 1), ('segmentation', 2), ('detection', 3)],\n",
    "    value=2,\n",
    "    description='Параметры базы данных:',\n",
    "    style = style\n",
    ")\n",
    "\n",
    "def on_button_clicked7(b):\n",
    "    print('Список 1:', b['old'], '->', b['new'])\n",
    "    \n",
    "a8= ipywidgets.Dropdown(\n",
    "    options=[('classification', 1), ('segmentation', 2), ('detection', 3)],\n",
    "    value=2,\n",
    "    description='Параметры обычения:',\n",
    "    style = style\n",
    ")\n",
    "\n",
    "def on_button_clicked8(b):\n",
    "    print('Список 2:', b['old'], '->', b['new'])\n",
    "    \n",
    "a9 = ipywidgets.Dropdown(\n",
    "    options=[('classification', 1), ('segmentation', 2), ('detection', 3)],\n",
    "    value=2,\n",
    "    description='Архитектура модели:',\n",
    "    style = style\n",
    ")\n",
    "\n",
    "def on_button_clicked9(b):\n",
    "    print('Список 3:', b['old'], '->', b['new'])\n",
    "    \n",
    "a10 = ipywidgets.Button(\n",
    "    description='Прекратить обучение',\n",
    "    disabled=False,\n",
    "    button_style='', # 'success', 'info', 'warning', 'danger' or ''\n",
    "    tooltip='Click me',\n",
    "    layout=ipywidgets.Layout(width='200px', height='40px'),\n",
    "    style = {'button_color': 'rgb(0,178,255)'}\n",
    ")\n",
    "\n",
    "a7.observe(on_button_clicked7, names='value')\n",
    "a8.observe(on_button_clicked8, names='value')\n",
    "a9.observe(on_button_clicked9, names='value')\n",
    "\n",
    "f2 = ipywidgets.VBox([a7, a8, a9, a10])\n",
    "f2"
   ]
  },
  {
   "cell_type": "code",
   "execution_count": 14,
   "id": "bc8c769b",
   "metadata": {},
   "outputs": [
    {
     "data": {
      "application/vnd.jupyter.widget-view+json": {
       "model_id": "e7887962987844058a3ea3c18d497896",
       "version_major": 2,
       "version_minor": 0
      },
      "text/plain": [
       "Tab(children=(Text(value='', description='P0'), Text(value='', description='P1'), Text(value='', description='…"
      ]
     },
     "metadata": {},
     "output_type": "display_data"
    }
   ],
   "source": [
    "tab_contents = ['P0', 'P1', 'P2', 'P3', 'P4']\n",
    "children = [ipywidgets.Text(description=name) for name in tab_contents]\n",
    "tab = ipywidgets.Tab()\n",
    "tab.children = children\n",
    "tab.titles = [str(i) for i in range(len(children))]\n",
    "tab"
   ]
  },
  {
   "cell_type": "code",
   "execution_count": 15,
   "id": "2edc6e3f",
   "metadata": {},
   "outputs": [
    {
     "data": {
      "application/vnd.jupyter.widget-view+json": {
       "model_id": "727fbc2fad064c32be9bdb9cd1eb3a62",
       "version_major": 2,
       "version_minor": 0
      },
      "text/plain": [
       "VBox(children=(Button(description='Вручную задать параметры обучения', layout=Layout(height='80px', width='800…"
      ]
     },
     "metadata": {},
     "output_type": "display_data"
    }
   ],
   "source": [
    "h1 = ipywidgets.Button(\n",
    "    description='Вручную задать параметры обучения',\n",
    "    disabled=False,\n",
    "    button_style='', # 'success', 'info', 'warning', 'danger' or ''\n",
    "    tooltip='Click me',\n",
    "    layout=ipywidgets.Layout(width='800px', height='80px'),\n",
    "    style = {'button_color': 'rgb(255,255,0)'}\n",
    ")\n",
    "h2 = ipywidgets.Button(\n",
    "    description='Обучить одну модель с т.зр. лучшей стратегии по сохраненной в системе истории обучения моделей',\n",
    "    disabled=False,\n",
    "    button_style='', # 'success', 'info', 'warning', 'danger' or ''\n",
    "    tooltip='Click me',\n",
    "    layout=ipywidgets.Layout(width='800px', height='80px'),\n",
    "    style = {'button_color': 'rgb(255,255,0)'}\n",
    ")\n",
    "h3 = ipywidgets.Button(\n",
    "    description='Обучение по сетке',\n",
    "    disabled=False,\n",
    "    button_style='', # 'success', 'info', 'warning', 'danger' or ''\n",
    "    tooltip='Click me',\n",
    "    layout=ipywidgets.Layout(width='800px', height='80px'),\n",
    "    style = {'button_color': 'rgb(255,255,0)'}\n",
    ")\n",
    "\n",
    "d6 = ipywidgets.VBox( [h1, h2, h3])\n",
    "d6"
   ]
  },
  {
   "cell_type": "code",
   "execution_count": 16,
   "id": "18fe3e8a",
   "metadata": {},
   "outputs": [
    {
     "data": {
      "application/vnd.jupyter.widget-view+json": {
       "model_id": "4abb35115ff74c388fa07d1fb9d0a284",
       "version_major": 2,
       "version_minor": 0
      },
      "text/plain": [
       "Accordion(children=(VBox(children=(Dropdown(description='Категория задачи:', index=1, options=(('training', 1)…"
      ]
     },
     "metadata": {},
     "output_type": "display_data"
    }
   ],
   "source": [
    "children = [f1, d6, d5, f2]\n",
    "accordion = ipywidgets.Accordion(children=children, titles=('Screen 1', 'Screen 2', 'Screen 3'))\n",
    "accordion"
   ]
  },
  {
   "cell_type": "code",
   "execution_count": 17,
   "id": "1f06ea82",
   "metadata": {},
   "outputs": [
    {
     "ename": "AttributeError",
     "evalue": "module 'ipywidgets' has no attribute 'Stacked'",
     "output_type": "error",
     "traceback": [
      "\u001b[1;31m---------------------------------------------------------------------------\u001b[0m",
      "\u001b[1;31mAttributeError\u001b[0m                            Traceback (most recent call last)",
      "Input \u001b[1;32mIn [17]\u001b[0m, in \u001b[0;36m<cell line: 3>\u001b[1;34m()\u001b[0m\n\u001b[0;32m      1\u001b[0m button \u001b[38;5;241m=\u001b[39m ipywidgets\u001b[38;5;241m.\u001b[39mButton(description\u001b[38;5;241m=\u001b[39m\u001b[38;5;124m'\u001b[39m\u001b[38;5;124mClick here\u001b[39m\u001b[38;5;124m'\u001b[39m)\n\u001b[0;32m      2\u001b[0m slider \u001b[38;5;241m=\u001b[39m ipywidgets\u001b[38;5;241m.\u001b[39mIntSlider()\n\u001b[1;32m----> 3\u001b[0m stacked \u001b[38;5;241m=\u001b[39m \u001b[43mipywidgets\u001b[49m\u001b[38;5;241;43m.\u001b[39;49m\u001b[43mStacked\u001b[49m([button, slider])\n\u001b[0;32m      4\u001b[0m stacked\n",
      "\u001b[1;31mAttributeError\u001b[0m: module 'ipywidgets' has no attribute 'Stacked'"
     ]
    }
   ],
   "source": [
    "button = ipywidgets.Button(description='Click here')\n",
    "slider = ipywidgets.IntSlider()\n",
    "stacked = ipywidgets.Stacked([button, slider])\n",
    "stacked "
   ]
  },
  {
   "cell_type": "code",
   "execution_count": null,
   "id": "2bf23310",
   "metadata": {},
   "outputs": [],
   "source": []
  }
 ],
 "metadata": {
  "kernelspec": {
   "display_name": "Python 3 (ipykernel)",
   "language": "python",
   "name": "python3"
  },
  "language_info": {
   "codemirror_mode": {
    "name": "ipython",
    "version": 3
   },
   "file_extension": ".py",
   "mimetype": "text/x-python",
   "name": "python",
   "nbconvert_exporter": "python",
   "pygments_lexer": "ipython3",
   "version": "3.9.12"
  }
 },
 "nbformat": 4,
 "nbformat_minor": 5
}
