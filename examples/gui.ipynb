{
 "cells": [
  {
   "cell_type": "code",
   "execution_count": 2,
   "metadata": {},
   "outputs": [
    {
     "data": {
      "application/vnd.jupyter.widget-view+json": {
       "model_id": "a3c5b58915c648cd9f43d3f7852f3306",
       "version_major": 2,
       "version_minor": 0
      },
      "text/plain": [
       "Label(value='abcd', layout=Layout(width='100%'))"
      ]
     },
     "metadata": {},
     "output_type": "display_data"
    },
    {
     "data": {
      "application/vnd.jupyter.widget-view+json": {
       "model_id": "2081904b2ec94a98b28db2c7d37aabdd",
       "version_major": 2,
       "version_minor": 0
      },
      "text/plain": [
       "HBox(children=(FloatProgress(value=0.0, max=1.0), Button(description='start', style=ButtonStyle()), Button(des…"
      ]
     },
     "metadata": {},
     "output_type": "display_data"
    },
    {
     "data": {
      "application/vnd.jupyter.widget-view+json": {
       "model_id": "35273dab2a6a4fa38d44517225da41ba",
       "version_major": 2,
       "version_minor": 0
      },
      "text/plain": [
       "HBox(children=(IntSlider(value=0, description='Input:', disabled=True, max=1000000000, step=100000000), Button…"
      ]
     },
     "metadata": {},
     "output_type": "display_data"
    }
   ],
   "source": [
    "from ann_automl.utils.process import process, set_pstate, get_pstate_value, request, pstate\n",
    "from ann_automl.jupyter.processvis import show_progress\n",
    "\n",
    "\n",
    "@process\n",
    "def f(n):\n",
    "    set_pstate(status=\"Step 1\")\n",
    "    for i in range(n):\n",
    "        if i%100000 == 0:\n",
    "            set_pstate(state=f'{i+1} of {n}', progress=(i+1)/n)\n",
    "            if pstate()._stop:\n",
    "                return\n",
    "    set_pstate(status=\"Wait for input integer\")\n",
    "    print(\"call example\")\n",
    "    a = request('input_int')\n",
    "    set_pstate(status=\"Step 2\")\n",
    "    for i in range(a):\n",
    "        if i%100000 == 0:\n",
    "            set_pstate(state=f'{i+1} of {n}', progress=(i+1)/n)\n",
    "            if pstate()._stop:\n",
    "                return\n",
    "    return a\n",
    "\n",
    "p = f(100000000, start=False)\n",
    "show_progress(p)"
   ]
  },
  {
   "cell_type": "code",
   "execution_count": 4,
   "metadata": {},
   "outputs": [
    {
     "data": {
      "application/vnd.jupyter.widget-view+json": {
       "model_id": "d6e531cd241b4b37beec52fd0cbee975",
       "version_major": 2,
       "version_minor": 0
      },
      "text/plain": [
       "Label(value='abcd', layout=Layout(width='100%'))"
      ]
     },
     "metadata": {},
     "output_type": "display_data"
    },
    {
     "data": {
      "application/vnd.jupyter.widget-view+json": {
       "model_id": "",
       "version_major": 2,
       "version_minor": 0
      },
      "text/plain": [
       "HBox(children=(FloatProgress(value=0.0, max=1.0), Button(description='start', style=ButtonStyle()), Button(des…"
      ]
     },
     "metadata": {},
     "output_type": "display_data"
    },
    {
     "data": {
      "application/vnd.jupyter.widget-view+json": {
       "model_id": "",
       "version_major": 2,
       "version_minor": 0
      },
      "text/plain": [
       "HBox(children=(IntSlider(value=0, description='Input:', disabled=True, max=1000000000, step=100000000), Button…"
      ]
     },
     "metadata": {},
     "output_type": "display_data"
    },
    {
     "name": "stdout",
     "output_type": "stream",
     "text": [
      "call example\n"
     ]
    },
    {
     "ename": "TypeError",
     "evalue": "'NoneType' object is not callable",
     "output_type": "error",
     "traceback": [
      "\u001b[0;31m---------------------------------------------------------------------------\u001b[0m",
      "\u001b[0;31mTypeError\u001b[0m                                 Traceback (most recent call last)",
      "\u001b[0;31mTypeError\u001b[0m: 'NoneType' object is not callable"
     ]
    }
   ],
   "source": [
    "from ann_automl.utils.pipe import pipe, send, receive\n",
    "from ann_automl.jupyter.pipevis import show_progress\n",
    "\n",
    "\n",
    "@pipe\n",
    "def f(n):\n",
    "    from ann_automl.utils.pipe import send, receive\n",
    "    send(\"status\", \"Step 1\")\n",
    "    for i in range(n):\n",
    "        if i%100000 == 0:\n",
    "            send(\"set\", state=f'{i+1} of {n}', progress=(i+1)/n)\n",
    "    send(\"status\", \"Wait for input integer\")\n",
    "    print(\"call example\")\n",
    "    a = receive('input_int')\n",
    "    send(\"set\", status=f\"Step 2 : a={a}\")\n",
    "    for i in range(a):\n",
    "        if i%100000 == 0:\n",
    "            send(\"set\", state=f'{i+1} of {n}', progress=(i+1)/n)\n",
    "    return a\n",
    "\n",
    "p = f(100000000, start=False)\n",
    "show_progress(p)"
   ]
  },
  {
   "cell_type": "code",
   "execution_count": null,
   "metadata": {},
   "outputs": [],
   "source": [
    "def f(n):\n",
    "    for i in range(n):\n",
    "        if i%100000 == 0:\n",
    "            set_pstate(state=f'{i+1} of {n}', progress=(i+1)/n)\n",
    "            if pstate()._stop:\n",
    "                return\n",
    "\n",
    "@process\n",
    "def g(n):\n",
    "    set_pstate(status=\"Step 1\")\n",
    "    f(n)\n",
    "    set_pstate(status=\"Wait for input integer\")\n",
    "    a = request('input_int')\n",
    "    set_pstate(status=\"Step 2\")\n",
    "    f(a)\n",
    "    return n\n",
    "\n",
    "p = g(100000000, start=False)\n",
    "show_progress(p)"
   ]
  },
  {
   "cell_type": "code",
   "execution_count": null,
   "metadata": {},
   "outputs": [],
   "source": [
    "##############################################"
   ]
  },
  {
   "cell_type": "markdown",
   "metadata": {},
   "source": [
    "## Тест графического интерфейса всей системы"
   ]
  },
  {
   "cell_type": "code",
   "execution_count": 5,
   "metadata": {},
   "outputs": [
    {
     "data": {
      "application/vnd.jupyter.widget-view+json": {
       "model_id": "ebe137b6a8414c70b7646ad85b750e52",
       "version_major": 2,
       "version_minor": 0
      },
      "text/plain": [
       "VBox(children=(Tab(children=(HBox(children=(VBox(children=(Dropdown(description='Категория задачи:', options=(…"
      ]
     },
     "metadata": {},
     "output_type": "display_data"
    }
   ],
   "source": [
    "from ann_automl.core.solver import Task, solve\n",
    "from ann_automl.core import nn_rules\n",
    "from ann_automl.utils.process import process\n",
    "import ipywidgets\n",
    "import traceback\n",
    "import sys\n",
    "\n",
    "class SolverGUI:\n",
    "    def create_main_screen(self):\n",
    "        style = {'description_width': '200px', 'width' : '500px'}\n",
    "        ct_in = ipywidgets.Dropdown(\n",
    "            options=['train', 'test', 'database', 'history'],\n",
    "            value='train',\n",
    "            description='Категория задачи:',\n",
    "            style = style\n",
    "        )\n",
    "\n",
    "        type_in = ipywidgets.Dropdown(\n",
    "            options=['classification', 'segmentation', 'detection'],\n",
    "            value='classification',\n",
    "            description='Тип задачи:',\n",
    "            style = style\n",
    "        )\n",
    "\n",
    "        cat_in = ipywidgets.Text(\n",
    "            value='cats, dogs',\n",
    "            description='Категория объектов интереса:',\n",
    "            style = style\n",
    "        )\n",
    "\n",
    "        target_in = ipywidgets.Dropdown(\n",
    "            options=['loss', 'metrics'],\n",
    "            value='metrics',\n",
    "            description='Цель:',\n",
    "            style = style\n",
    "        )\n",
    "\n",
    "        target_val_in = ipywidgets.BoundedFloatText(\n",
    "            value=0.7,\n",
    "            min=0,\n",
    "            max=1,\n",
    "            step=0.05,\n",
    "            description='Значение цели:',\n",
    "            style = style\n",
    "        )\n",
    "    \n",
    "        def on_finish(p):\n",
    "            start.disabled = False\n",
    "            if isinstance(p._exn, Exception):\n",
    "                try:\n",
    "                    raise p._exn\n",
    "                except Exception as e:\n",
    "                    self.handlers[\"log\"](f'Process finished with error:')\n",
    "                    self.handlers[\"error\"](traceback.format_exc())\n",
    "            else:\n",
    "                self.handlers[\"log\"](f'Process finished')\n",
    "\n",
    "        def on_start_clicked(b):\n",
    "            self._log_widget.clear_output()\n",
    "            with self._log_widget:\n",
    "                print(\"========= Process output ==========\")\n",
    "            obj = [x.strip() for x in str(cat_in.value).split(\",\")]\n",
    "            task = Task(ct_in.value, task_type=type_in.value, obj_set=obj, goal={target_in.value: target_val_in.value})\n",
    "            self.proc = process(solve)(task, debug_mode=True, start=False)\n",
    "            self.proc.handlers.update(self.handlers)\n",
    "            self.proc.start()\n",
    "            self.proc.on_finish = on_finish\n",
    "            start.disabled = True\n",
    "            \n",
    "                \n",
    "\n",
    "        start = ipywidgets.Button(description='Запустить систему',\n",
    "                                  #style = {'button_color': 'rgb(0,140,255)'},\n",
    "                                  layout=ipywidgets.Layout(width='500px', height='28px'))\n",
    "        start.on_click(on_start_clicked)\n",
    "\n",
    "        return ipywidgets.VBox([ct_in, type_in, cat_in, target_in, target_val_in, start])\n",
    "\n",
    "    def create_strategy_found(self):\n",
    "        a11 = ipywidgets.Dropdown(\n",
    "            options=[('Стратегия 1', 1), ('Стратегия 2', 2), ('Стратегия 3', 3)],\n",
    "            value=1,\n",
    "            description='Найдены подходящие стратегии:',\n",
    "            style = {'description_width': '200px', 'width' : '600px'}\n",
    "        )\n",
    "\n",
    "        def on_button_clicked7(b):\n",
    "            print('Список 1:', b['old'], '->', b['new'])\n",
    "\n",
    "        btn_yes = ipywidgets.Button(description='Да', style = {'button_color': 'rgb(0,255,0)'})\n",
    "        btn_no = ipywidgets.Button(description='Нет', style = {'button_color': 'rgb(255,0,0)'})\n",
    "\n",
    "        def on_btn_yes(b):\n",
    "            self.tab.selected_index = 4\n",
    "        def on_btn_no(b):\n",
    "            self.tab.selected_index = 0\n",
    "\n",
    "        btn_yes.on_click(on_btn_yes)\n",
    "        btn_no.on_click(on_btn_no)\n",
    "\n",
    "        HB = ipywidgets.HBox([ipywidgets.Label('Хотите обучить новую модель или закончить работу? : '), btn_yes, btn_no])\n",
    "        return ipywidgets.VBox([a11, HB])\n",
    "\n",
    "    def create_retrain_widget(self):\n",
    "        style = {'button_color': 'rgb(0,140,255)'}\n",
    "        c1 = ipywidgets.Button(\n",
    "            description='Выбрать другую стратегию (из истории системы)',\n",
    "            disabled=False,\n",
    "            button_style='', # 'success', 'info', 'warning', 'danger' or ''\n",
    "            tooltip='Click me',\n",
    "            layout=ipywidgets.Layout(width='500px', height='28px'),\n",
    "            style = style\n",
    "        )\n",
    "        c2 = ipywidgets.Button(\n",
    "            description='Вручную задать параметры обучения',\n",
    "            disabled=False,\n",
    "            button_style='', # 'success', 'info', 'warning', 'danger' or ''\n",
    "            tooltip='Click me',\n",
    "            layout=ipywidgets.Layout(width='500px', height='28px'),\n",
    "            style = style\n",
    "        )\n",
    "        c3 = ipywidgets.Button(\n",
    "            description='Обучение по сетке',\n",
    "            disabled=False,\n",
    "            button_style='', # 'success', 'info', 'warning', 'danger' or ''\n",
    "            tooltip='Click me',\n",
    "            layout=ipywidgets.Layout(width='500px', height='28px'),\n",
    "            style = style\n",
    "        )\n",
    "        c4 = ipywidgets.Button(\n",
    "            description='Изменить архитектуру модели (случайно\\по истории\\по спец. технологии)',\n",
    "            disabled=False,\n",
    "            button_style='', # 'success', 'info', 'warning', 'danger' or ''\n",
    "            tooltip='Click me',\n",
    "            layout=ipywidgets.Layout(width='500px', height='28px'),\n",
    "            style = style\n",
    "        )\n",
    "        c5 = ipywidgets.Button(\n",
    "            description='изменить расписание скорости обучения',\n",
    "            disabled=False,\n",
    "            button_style='', # 'success', 'info', 'warning', 'danger' or ''\n",
    "            tooltip='Click me',\n",
    "            layout=ipywidgets.Layout(width='500px', height='28px'),\n",
    "            style = style\n",
    "        )\n",
    "        d1 = ipywidgets.VBox([ipywidgets.Label('Приёмы:'), c1, c2, c3, c4, c5])\n",
    "        e1 = ipywidgets.FloatText(\n",
    "            value=0.5,\n",
    "            disabled=False,\n",
    "            layout=ipywidgets.Layout(width='80px', height='28px')\n",
    "        )\n",
    "        e2 = ipywidgets.FloatText(\n",
    "            value=0.5,\n",
    "            disabled=False,\n",
    "            layout=ipywidgets.Layout(width='80px', height='28px')\n",
    "        )\n",
    "        e3 = ipywidgets.FloatText(\n",
    "            value=0.5,\n",
    "            disabled=False,\n",
    "            layout=ipywidgets.Layout(width='80px', height='28px')\n",
    "        )\n",
    "        e4 = ipywidgets.FloatText(\n",
    "            value=0.5,\n",
    "            disabled=False,\n",
    "            layout=ipywidgets.Layout(width='80px', height='28px')\n",
    "        )\n",
    "        e5 = ipywidgets.FloatText(\n",
    "            value=0.5,\n",
    "            disabled=False,\n",
    "            layout=ipywidgets.Layout(width='80px', height='28px')\n",
    "        )\n",
    "        d2 = ipywidgets.VBox([ipywidgets.Label('Текущее распределение вероятности «успеха»'), e1, e2, e3, e4, e5])\n",
    "        d3 = ipywidgets.HBox([d1, d2])\n",
    "        c6 = ipywidgets.Button(\n",
    "            description='Случайный прием',\n",
    "            disabled=False,\n",
    "            button_style='', # 'success', 'info', 'warning', 'danger' or ''\n",
    "            tooltip='Click me',\n",
    "            layout=ipywidgets.Layout(width='200px', height='50px'),\n",
    "            style = {'button_color': 'rgb(204,0,255)'}\n",
    "        )\n",
    "        c7 = ipywidgets.Button(\n",
    "            description='Закончить обучение',\n",
    "            disabled=False,\n",
    "            button_style='', # 'success', 'info', 'warning', 'danger' or ''\n",
    "            tooltip='Click me',\n",
    "            layout=ipywidgets.Layout(width='200px', height='50px'),\n",
    "            style = {'button_color': 'rgb(255,119,0)'}\n",
    "        )\n",
    "        d4 = ipywidgets.HBox([c6, c7])\n",
    "        d5 = ipywidgets.VBox([d3, d4])\n",
    "        return d5\n",
    "\n",
    "    def create_manual_params(self):\n",
    "        a7 = ipywidgets.Dropdown(\n",
    "            options=[('classification', 1), ('segmentation', 2), ('detection', 3)],\n",
    "            value=2,\n",
    "            description='Параметры базы данных:',\n",
    "            style = {'description_width': '200px', 'width' : '500px'}\n",
    "        )\n",
    "\n",
    "        def on_button_clicked7(b):\n",
    "            print('Список 1:', b['old'], '->', b['new'])\n",
    "\n",
    "        a8= ipywidgets.Dropdown(\n",
    "            options=[('classification', 1), ('segmentation', 2), ('detection', 3)],\n",
    "            value=2,\n",
    "            description='Параметры обучения:',\n",
    "            style = {'description_width': '200px', 'width' : '500px'}\n",
    "        )\n",
    "\n",
    "        def on_button_clicked8(b):\n",
    "            print('Список 2:', b['old'], '->', b['new'])\n",
    "\n",
    "        a9 = ipywidgets.Dropdown(\n",
    "            options=[('classification', 1), ('segmentation', 2), ('detection', 3)],\n",
    "            value=2,\n",
    "            description='Архитектура модели:',\n",
    "            style = {'description_width': '200px', 'width' : '500px'}\n",
    "        )\n",
    "\n",
    "        def on_button_clicked9(b):\n",
    "            print('Список 3:', b['old'], '->', b['new'])\n",
    "\n",
    "        a10 = ipywidgets.Button(\n",
    "            description='Прекратить обучение',\n",
    "            button_style='', # 'success', 'info', 'warning', 'danger' or ''\n",
    "            tooltip='Click me',\n",
    "            layout=ipywidgets.Layout(width='200px', height='40px'),\n",
    "            style = {'button_color': 'rgb(0,178,255)'}\n",
    "        )\n",
    "\n",
    "        a7.observe(on_button_clicked7, names='value')\n",
    "        a8.observe(on_button_clicked8, names='value')\n",
    "        a9.observe(on_button_clicked9, names='value')\n",
    "\n",
    "        return ipywidgets.VBox([a7, a8, a9, a10])\n",
    "\n",
    "    def create_train_choose(self):\n",
    "        h1 = ipywidgets.Button(\n",
    "            description='Вручную задать параметры обучения',\n",
    "            disabled=False,\n",
    "            button_style='', # 'success', 'info', 'warning', 'danger' or ''\n",
    "            tooltip='Click me',\n",
    "            layout=ipywidgets.Layout(width='640px', height='80px'),\n",
    "            style = {'button_color': 'rgb(255,255,0)'}\n",
    "        )\n",
    "        h2 = ipywidgets.Button(\n",
    "            description='Обучить одну модель с т.зр. лучшей стратегии по сохраненной в системе истории обучения моделей',\n",
    "            disabled=False,\n",
    "            button_style='', # 'success', 'info', 'warning', 'danger' or ''\n",
    "            tooltip='Click me',\n",
    "            layout=ipywidgets.Layout(width='640px', height='80px'),\n",
    "            style = {'button_color': 'rgb(255,255,0)'}\n",
    "        )\n",
    "        h3 = ipywidgets.Button(\n",
    "            description='Обучение по сетке',\n",
    "            disabled=False,\n",
    "            button_style='', # 'success', 'info', 'warning', 'danger' or ''\n",
    "            tooltip='Click me',\n",
    "            layout=ipywidgets.Layout(width='640px', height='80px'),\n",
    "            style = {'button_color': 'rgb(255,255,0)'}\n",
    "        )\n",
    "        def on_button_clicked1(b): # Описываем обработчик события\n",
    "            self.tab.selected_index = 2\n",
    "        h1.on_click(on_button_clicked1)\n",
    "        return ipywidgets.VBox( [h1, h2, h3])\n",
    "\n",
    "    def __init__(self, ptask):\n",
    "        self._log = []  # логи\n",
    "        self._ptask = ptask\n",
    "        self.handlers = {}\n",
    "        self.btn_next = ipywidgets.Button(description='next')\n",
    "        self.btn_prev = ipywidgets.Button(description='prev')\n",
    "        def on_next(b):\n",
    "            self.tab.selected_index = self.tab.selected_index + 1\n",
    "        def on_prev(b):\n",
    "            self.tab.selected_index = self.tab.selected_index - 1\n",
    "        self.btn_next.on_click(on_next)\n",
    "        self.btn_prev.on_click(on_prev)\n",
    "        #######################\n",
    "        self._main_screen = self.create_main_screen()\n",
    "        self._strategy_found = self.create_strategy_found()\n",
    "        self._train_choose = self.create_train_choose()\n",
    "        self._manual_train_params = self.create_manual_params()\n",
    "        self._retrain_widget = self.create_retrain_widget()\n",
    "        self._log_widget = ipywidgets.Output(layout=ipywidgets.Layout(height='500px', border='solid',overflow_y='scroll'))\n",
    "        def log_to_output(text, **kwargs):\n",
    "            with self._log_widget:\n",
    "                print(text, **kwargs)\n",
    "        def err_to_output(text, **kwargs):\n",
    "            with self._log_widget:\n",
    "                print(text, **kwargs, file=sys.stderr)\n",
    "        self.handlers[\"log\"] = log_to_output\n",
    "        self.handlers[\"error\"] = err_to_output\n",
    "        def set_state(state):\n",
    "            self.state = state\n",
    "        self.handlers[\"set_state\"] = set_state\n",
    "        #######################\n",
    "        screen1 = ipywidgets.HBox([self._main_screen, self.btn_next])\n",
    "        screen2 = ipywidgets.HBox([self._strategy_found, self.btn_next, self.btn_prev])\n",
    "        screen3 = ipywidgets.HBox([self._manual_train_params, self.btn_next, self.btn_prev])\n",
    "        screen4 = ipywidgets.HBox([self._train_choose, self.btn_next, self.btn_prev])\n",
    "        screen5 = ipywidgets.HBox([self._retrain_widget, self.btn_prev])\n",
    "        self.tab = ipywidgets.Tab()\n",
    "        self.tab.children = [screen1, screen2, screen3, screen4, screen5]\n",
    "        self.tab.titles = [str(i) for i in range(len(self.tab.children))]\n",
    "        \n",
    "        #######################\n",
    "        clear_button = ipywidgets.Button(description='Очистить выдачу')\n",
    "        def clear_log(b):\n",
    "            self._log_widget.clear_output()\n",
    "        clear_button.on_click(clear_log)\n",
    "        \n",
    "        self.window = ipywidgets.VBox([self.tab, self._log_widget,clear_button])\n",
    "        for i in range(5):\n",
    "            title = 'Screen' + str(i+1)\n",
    "            self.tab.set_title(i, title)\n",
    "\n",
    "    def display(self):\n",
    "        display(self.window)\n",
    "        #display(self.tab)\n",
    "        #display(self._log_widget)\n",
    "\n",
    "w = SolverGUI(None)\n",
    "w.display()"
   ]
  },
  {
   "cell_type": "code",
   "execution_count": 8,
   "metadata": {},
   "outputs": [
    {
     "data": {
      "text/plain": [
       "{'pipeline': 'ResNet18',\n",
       " 'modelLastLayers': [{'Type': 'Dense', 'units': 64},\n",
       "  {'Type': 'Activation', 'activation': 'relu'},\n",
       "  {'Type': 'Dense', 'units': 1},\n",
       "  {'Type': 'Activation', 'activation': 'sigmoid'}],\n",
       " 'augmenParams': {'horizontal_flip': True,\n",
       "  'preprocessing_function': 'keras.applications.resnet.preprocess_input',\n",
       "  'vertical_flip': None,\n",
       "  'width_shift_range': 0.4,\n",
       "  'height_shift_range': 0.4},\n",
       " 'loss': 'binary_crossentropy',\n",
       " 'metrics': 'accuracy',\n",
       " 'epochs': 150,\n",
       " 'stoppingCriterion': 'stop_val_metr'}"
      ]
     },
     "execution_count": 8,
     "metadata": {},
     "output_type": "execute_result"
    }
   ],
   "source": [
    "w.state.task.fixedHyperParams"
   ]
  },
  {
   "cell_type": "code",
   "execution_count": 6,
   "metadata": {},
   "outputs": [
    {
     "data": {
      "text/plain": [
       "True"
      ]
     },
     "execution_count": 6,
     "metadata": {},
     "output_type": "execute_result"
    }
   ],
   "source": [
    "w.proc._finished"
   ]
  },
  {
   "cell_type": "code",
   "execution_count": null,
   "metadata": {},
   "outputs": [],
   "source": []
  }
 ],
 "metadata": {
  "kernelspec": {
   "display_name": "Python 3",
   "language": "python",
   "name": "python3"
  },
  "language_info": {
   "codemirror_mode": {
    "name": "ipython",
    "version": 3
   },
   "file_extension": ".py",
   "mimetype": "text/x-python",
   "name": "python",
   "nbconvert_exporter": "python",
   "pygments_lexer": "ipython3",
   "version": "3.8.6"
  },
  "toc": {
   "base_numbering": 1,
   "nav_menu": {},
   "number_sections": true,
   "sideBar": true,
   "skip_h1_title": false,
   "title_cell": "Table of Contents",
   "title_sidebar": "Contents",
   "toc_cell": false,
   "toc_position": {},
   "toc_section_display": true,
   "toc_window_display": false
  }
 },
 "nbformat": 4,
 "nbformat_minor": 1
}
