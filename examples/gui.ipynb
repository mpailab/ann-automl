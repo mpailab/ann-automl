{
 "cells": [
  {
   "cell_type": "code",
   "execution_count": null,
   "metadata": {},
   "outputs": [],
   "source": [
    "from ann_automl.utils.process import process, set_pstate, get_pstate_value, request, pstate\n",
    "from ann_automl.jupyter.processvis import show_progress\n",
    "\n",
    "\n",
    "@process\n",
    "def f(n):\n",
    "    set_pstate(status=\"Step 1\")\n",
    "    for i in range(n):\n",
    "        if i%100000 == 0:\n",
    "            set_pstate(state=f'{i+1} of {n}', progress=(i+1)/n)\n",
    "            if pstate()._stop:\n",
    "                return\n",
    "    set_pstate(status=\"Wait for input integer\")\n",
    "    print(\"call example\")\n",
    "    a = request('input_int')\n",
    "    set_pstate(status=\"Step 2\")\n",
    "    for i in range(a):\n",
    "        if i%100000 == 0:\n",
    "            set_pstate(state=f'{i+1} of {n}', progress=(i+1)/n)\n",
    "            if pstate()._stop:\n",
    "                return\n",
    "    return a\n",
    "\n",
    "p = f(100000000, start=False)\n",
    "show_progress(p)"
   ]
  },
  {
   "cell_type": "code",
   "execution_count": null,
   "metadata": {},
   "outputs": [],
   "source": [
    "from ann_automl.utils.pipe import pipe, send, receive\n",
    "from ann_automl.jupyter.pipevis import show_progress\n",
    "\n",
    "\n",
    "@pipe\n",
    "def f(n):\n",
    "    from ann_automl.utils.pipe import send, receive\n",
    "    send(\"status\", \"Step 1\")\n",
    "    for i in range(n):\n",
    "        if i%100000 == 0:\n",
    "            send(\"set\", state=f'{i+1} of {n}', progress=(i+1)/n)\n",
    "    send(\"status\", \"Wait for input integer\")\n",
    "    print(\"call example\")\n",
    "    a = receive('input_int')\n",
    "    send(\"set\", status=\"Step 2\")\n",
    "    for i in range(a):\n",
    "        if i%100000 == 0:\n",
    "            send(\"set\", state=f'{i+1} of {n}', progress=(i+1)/n)\n",
    "    return a\n",
    "\n",
    "p = f(100000000, start=False)\n",
    "show_progress(p)"
   ]
  },
  {
   "cell_type": "code",
   "execution_count": null,
   "metadata": {},
   "outputs": [],
   "source": [
    "def f(n):\n",
    "    for i in range(n):\n",
    "        if i%100000 == 0:\n",
    "            set_pstate(state=f'{i+1} of {n}', progress=(i+1)/n)\n",
    "            if pstate()._stop:\n",
    "                return\n",
    "\n",
    "@process\n",
    "def g(n):\n",
    "    set_pstate(status=\"Step 1\")\n",
    "    f(n)\n",
    "    set_pstate(status=\"Wait for input integer\")\n",
    "    a = request('input_int')\n",
    "    set_pstate(status=\"Step 2\")\n",
    "    f(a)\n",
    "    return n\n",
    "\n",
    "p = g(100000000, start=False)\n",
    "show_progress(p)"
   ]
  }
 ],
 "metadata": {
  "kernelspec": {
   "display_name": "Python 3 (ipykernel)",
   "language": "python",
   "name": "python3"
  },
  "language_info": {
   "codemirror_mode": {
    "name": "ipython",
    "version": 3
   },
   "file_extension": ".py",
   "mimetype": "text/x-python",
   "name": "python",
   "nbconvert_exporter": "python",
   "pygments_lexer": "ipython3",
   "version": "3.7.3"
  },
  "toc": {
   "base_numbering": 1,
   "nav_menu": {},
   "number_sections": true,
   "sideBar": true,
   "skip_h1_title": false,
   "title_cell": "Table of Contents",
   "title_sidebar": "Contents",
   "toc_cell": false,
   "toc_position": {},
   "toc_section_display": true,
   "toc_window_display": false
  }
 },
 "nbformat": 4,
 "nbformat_minor": 1
}
