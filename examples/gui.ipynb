{
 "cells": [
  {
   "cell_type": "code",
   "execution_count": null,
   "metadata": {},
   "outputs": [],
   "source": [
    "from ann_automl.utils.process import process, set_pstate, get_pstate_value, request, pstate\n",
    "from ann_automl.jupyter.processvis import show_progress\n",
    "\n",
    "\n",
    "@process\n",
    "def f(n):\n",
    "    set_pstate(status=\"Step 1\")\n",
    "    for i in range(n):\n",
    "        if i%100000 == 0:\n",
    "            set_pstate(state=f'{i+1} of {n}', progress=(i+1)/n)\n",
    "            if pstate()._stop:\n",
    "                return\n",
    "    set_pstate(status=\"Wait for input integer\")\n",
    "    print(\"call example\")\n",
    "    a = request('input_int')\n",
    "    set_pstate(status=\"Step 2\")\n",
    "    for i in range(a):\n",
    "        if i%100000 == 0:\n",
    "            set_pstate(state=f'{i+1} of {n}', progress=(i+1)/n)\n",
    "            if pstate()._stop:\n",
    "                return\n",
    "    return a\n",
    "\n",
    "p = f(100000000, start=False)\n",
    "show_progress(p)"
   ]
  },
  {
   "cell_type": "code",
   "execution_count": null,
   "metadata": {},
   "outputs": [],
   "source": [
    "from ann_automl.utils.pipe import pipe, send, receive\n",
    "from ann_automl.jupyter.pipevis import show_progress\n",
    "\n",
    "\n",
    "@pipe\n",
    "def f(n):\n",
    "    from ann_automl.utils.pipe import send, receive\n",
    "    send(\"status\", \"Step 1\")\n",
    "    for i in range(n):\n",
    "        if i%100000 == 0:\n",
    "            send(\"set\", state=f'{i+1} of {n}', progress=(i+1)/n)\n",
    "    send(\"status\", \"Wait for input integer\")\n",
    "    print(\"call example\")\n",
    "    a = receive('input_int')\n",
    "    send(\"set\", status=f\"Step 2 : a={a}\")\n",
    "    for i in range(a):\n",
    "        if i%100000 == 0:\n",
    "            send(\"set\", state=f'{i+1} of {n}', progress=(i+1)/n)\n",
    "    return a\n",
    "\n",
    "p = f(100000000, start=False)\n",
    "show_progress(p)"
   ]
  },
  {
   "cell_type": "code",
   "execution_count": null,
   "metadata": {},
   "outputs": [],
   "source": [
    "def f(n):\n",
    "    for i in range(n):\n",
    "        if i%100000 == 0:\n",
    "            set_pstate(state=f'{i+1} of {n}', progress=(i+1)/n)\n",
    "            if pstate()._stop:\n",
    "                return\n",
    "\n",
    "@process\n",
    "def g(n):\n",
    "    set_pstate(status=\"Step 1\")\n",
    "    f(n)\n",
    "    set_pstate(status=\"Wait for input integer\")\n",
    "    a = request('input_int')\n",
    "    set_pstate(status=\"Step 2\")\n",
    "    f(a)\n",
    "    return n\n",
    "\n",
    "p = g(100000000, start=False)\n",
    "show_progress(p)"
   ]
  },
  {
   "cell_type": "code",
   "execution_count": null,
   "metadata": {},
   "outputs": [],
   "source": [
    "##############################################"
   ]
  },
  {
   "cell_type": "markdown",
   "metadata": {},
   "source": [
    "## Тест графического интерфейса всей системы"
   ]
  },
  {
   "cell_type": "code",
   "execution_count": 1,
   "metadata": {},
   "outputs": [
    {
     "data": {
      "application/vnd.jupyter.widget-view+json": {
       "model_id": "8b81e4bf59a048369ee46f0242142266",
       "version_major": 2,
       "version_minor": 0
      },
      "text/plain": [
       "VBox(children=(Tab(children=(VBox(children=(Dropdown(description='Категория задачи:', options=('train', 'test'…"
      ]
     },
     "metadata": {},
     "output_type": "display_data"
    }
   ],
   "source": [
    "from ann_automl.core.nn_rules import set_data_dir\n",
    "from ann_automl.jupyter.nn_gui import SolverGUI\n",
    "from ann_automl.utils.process import process\n",
    "\n",
    "set_data_dir(\"../data/\")\n",
    "\n",
    "w = SolverGUI(None)\n",
    "w.display()"
   ]
  },
  {
   "cell_type": "code",
   "execution_count": 8,
   "metadata": {},
   "outputs": [
    {
     "data": {
      "text/plain": [
       "{'pipeline': 'ResNet18',\n",
       " 'modelLastLayers': [{'Type': 'Dense', 'units': 64},\n",
       "  {'Type': 'Activation', 'activation': 'relu'},\n",
       "  {'Type': 'Dense', 'units': 1},\n",
       "  {'Type': 'Activation', 'activation': 'sigmoid'}],\n",
       " 'augmenParams': {'horizontal_flip': True,\n",
       "  'preprocessing_function': 'keras.applications.resnet.preprocess_input',\n",
       "  'vertical_flip': None,\n",
       "  'width_shift_range': 0.4,\n",
       "  'height_shift_range': 0.4},\n",
       " 'loss': 'binary_crossentropy',\n",
       " 'metrics': 'accuracy',\n",
       " 'epochs': 150,\n",
       " 'stoppingCriterion': 'stop_val_metr'}"
      ]
     },
     "execution_count": 8,
     "metadata": {},
     "output_type": "execute_result"
    }
   ],
   "source": [
    "w.state.task.fixedHyperParams"
   ]
  },
  {
   "cell_type": "code",
   "execution_count": 6,
   "metadata": {},
   "outputs": [
    {
     "data": {
      "text/plain": [
       "True"
      ]
     },
     "execution_count": 6,
     "metadata": {},
     "output_type": "execute_result"
    }
   ],
   "source": [
    "w.proc._finished"
   ]
  }
 ],
 "metadata": {
  "kernelspec": {
   "display_name": "Python 3.7.3 ('.env': venv)",
   "language": "python",
   "name": "python3"
  },
  "language_info": {
   "codemirror_mode": {
    "name": "ipython",
    "version": 3
   },
   "file_extension": ".py",
   "mimetype": "text/x-python",
   "name": "python",
   "nbconvert_exporter": "python",
   "pygments_lexer": "ipython3",
   "version": "3.7.3"
  },
  "toc": {
   "base_numbering": 1,
   "nav_menu": {},
   "number_sections": true,
   "sideBar": true,
   "skip_h1_title": false,
   "title_cell": "Table of Contents",
   "title_sidebar": "Contents",
   "toc_cell": false,
   "toc_position": {},
   "toc_section_display": true,
   "toc_window_display": false
  },
  "vscode": {
   "interpreter": {
    "hash": "26d345a83d0d15cb3e5d0676234ddee314e03df10f6114a0a52b8ce143a8d4bb"
   }
  }
 },
 "nbformat": 4,
 "nbformat_minor": 1
}
