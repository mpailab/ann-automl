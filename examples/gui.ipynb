{
 "cells": [
  {
   "cell_type": "code",
   "execution_count": 1,
   "outputs": [
    {
     "data": {
      "text/plain": "Label(value='abcd', layout=Layout(width='100%'))",
      "application/vnd.jupyter.widget-view+json": {
       "version_major": 2,
       "version_minor": 0,
       "model_id": "0b96be4ed4e5446f92ee924fca722325"
      }
     },
     "metadata": {},
     "output_type": "display_data"
    },
    {
     "data": {
      "text/plain": "HBox(children=(FloatProgress(value=0.0, max=1.0), Button(description='start', style=ButtonStyle()), Button(des…",
      "application/vnd.jupyter.widget-view+json": {
       "version_major": 2,
       "version_minor": 0,
       "model_id": "ca6d99e11ef849b587ca440664cac070"
      }
     },
     "metadata": {},
     "output_type": "display_data"
    },
    {
     "data": {
      "text/plain": "HBox(children=(IntSlider(value=0, description='Input:', disabled=True, max=1000000000, step=100000000), Button…",
      "application/vnd.jupyter.widget-view+json": {
       "version_major": 2,
       "version_minor": 0,
       "model_id": "c2c0613d8d544669817a89bed4951d51"
      }
     },
     "metadata": {},
     "output_type": "display_data"
    }
   ],
   "source": [
    "from ann_automl.utils.process import process, set_pstate, get_pstate_value, request, pstate\n",
    "from ann_automl.jupyter.processvis import show_progress\n",
    "\n",
    "\n",
    "@process\n",
    "def f(n):\n",
    "    set_pstate(status=\"Step 1\")\n",
    "    for i in range(n):\n",
    "        if i%100000 == 0:\n",
    "            set_pstate(state=f'{i+1} of {n}', progress=(i+1)/n)\n",
    "            if pstate()._stop:\n",
    "                return\n",
    "    set_pstate(status=\"Wait for input integer\")\n",
    "    print(\"call example\")\n",
    "    a = request('input_int')\n",
    "    set_pstate(status=\"Step 2\")\n",
    "    for i in range(a):\n",
    "        if i%100000 == 0:\n",
    "            set_pstate(state=f'{i+1} of {n}', progress=(i+1)/n)\n",
    "            if pstate()._stop:\n",
    "                return\n",
    "    return a\n",
    "\n",
    "p = f(100000000, start=False)\n",
    "show_progress(p)"
   ],
   "metadata": {
    "collapsed": false
   }
  },
  {
   "cell_type": "code",
   "execution_count": 3,
   "metadata": {},
   "outputs": [
    {
     "data": {
      "text/plain": "Label(value='abcd', layout=Layout(width='100%'))",
      "application/vnd.jupyter.widget-view+json": {
       "version_major": 2,
       "version_minor": 0,
       "model_id": "0acc1441577d4bf2ba679a3520fc0240"
      }
     },
     "metadata": {},
     "output_type": "display_data"
    },
    {
     "data": {
      "text/plain": "HBox(children=(FloatProgress(value=0.0, max=1.0), Button(description='start', style=ButtonStyle()), Button(des…",
      "application/vnd.jupyter.widget-view+json": {
       "version_major": 2,
       "version_minor": 0,
       "model_id": "c8410a07407442a0a860815e9e0baa2f"
      }
     },
     "metadata": {},
     "output_type": "display_data"
    },
    {
     "data": {
      "text/plain": "HBox(children=(IntSlider(value=0, description='Input:', disabled=True, max=1000000000, step=100000000), Button…",
      "application/vnd.jupyter.widget-view+json": {
       "version_major": 2,
       "version_minor": 0,
       "model_id": "aff3062c50a240ac999cfac5cea3dffd"
      }
     },
     "metadata": {},
     "output_type": "display_data"
    }
   ],
   "source": [
    "def f(n):\n",
    "    for i in range(n):\n",
    "        if i%100000 == 0:\n",
    "            set_pstate(state=f'{i+1} of {n}', progress=(i+1)/n)\n",
    "            if pstate()._stop:\n",
    "                return\n",
    "\n",
    "@process\n",
    "def g(n):\n",
    "    set_pstate(status=\"Step 1\")\n",
    "    f(n)\n",
    "    set_pstate(status=\"Wait for input integer\")\n",
    "    a = request('input_int')\n",
    "    set_pstate(status=\"Step 2\")\n",
    "    f(a)\n",
    "    return n\n",
    "\n",
    "p = g(100000000, start=False)\n",
    "show_progress(p)"
   ]
  },
  {
   "cell_type": "code",
   "execution_count": null,
   "outputs": [],
   "source": [],
   "metadata": {
    "collapsed": false
   }
  }
 ],
 "metadata": {
  "kernelspec": {
   "display_name": "Python 3",
   "language": "python",
   "name": "python3"
  },
  "language_info": {
   "codemirror_mode": {
    "name": "ipython",
    "version": 3
   },
   "file_extension": ".py",
   "mimetype": "text/x-python",
   "name": "python",
   "nbconvert_exporter": "python",
   "pygments_lexer": "ipython3",
   "version": "3.8.6"
  },
  "toc": {
   "base_numbering": 1,
   "nav_menu": {},
   "number_sections": true,
   "sideBar": true,
   "skip_h1_title": false,
   "title_cell": "Table of Contents",
   "title_sidebar": "Contents",
   "toc_cell": false,
   "toc_position": {},
   "toc_section_display": true,
   "toc_window_display": false
  }
 },
 "nbformat": 4,
 "nbformat_minor": 1
}
