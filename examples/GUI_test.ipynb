{
 "cells": [
  {
   "cell_type": "code",
   "execution_count": 1,
   "id": "2c9dbcec",
   "metadata": {},
   "outputs": [
    {
     "data": {
      "text/html": [
       "\n",
       "        <iframe\n",
       "            width=\"1000\"\n",
       "            height=\"400\"\n",
       "            src=\"https://ipywidgets.readthedocs.io/en/latest/examples/Widget%20List.html\"\n",
       "            frameborder=\"0\"\n",
       "            allowfullscreen\n",
       "            \n",
       "        ></iframe>\n",
       "        "
      ],
      "text/plain": [
       "<IPython.lib.display.IFrame at 0x1bb536298b0>"
      ]
     },
     "metadata": {},
     "output_type": "display_data"
    }
   ],
   "source": [
    "from IPython.display import IFrame\n",
    "documentation = IFrame(src='https://ipywidgets.readthedocs.io/en/latest/examples/Widget%20List.html', \n",
    "                       width=1000, \n",
    "                       height=400)\n",
    "display(documentation)"
   ]
  },
  {
   "cell_type": "code",
   "execution_count": 2,
   "id": "20cfa435",
   "metadata": {},
   "outputs": [
    {
     "data": {
      "application/vnd.jupyter.widget-view+json": {
       "model_id": "dc6052122ca84ea6a1231378492bf2a3",
       "version_major": 2,
       "version_minor": 0
      },
      "text/plain": [
       "IntProgress(value=0, max=1000)"
      ]
     },
     "metadata": {},
     "output_type": "display_data"
    },
    {
     "name": "stdout",
     "output_type": "stream",
     "text": [
      "Процесс завершен\n"
     ]
    }
   ],
   "source": [
    "from ipywidgets import IntProgress\n",
    "from IPython.display import display\n",
    "import time\n",
    "\n",
    "prgBar = IntProgress(min = 0, max = 1000) # Прогрессбар\n",
    "display(prgBar)\n",
    "\n",
    "while prgBar.value < prgBar.max:\n",
    "    prgBar.value = prgBar.value + 50\n",
    "    time.sleep(0.1)\n",
    "    \n",
    "print('Процесс завершен')"
   ]
  },
  {
   "cell_type": "code",
   "execution_count": 3,
   "id": "bd5e203e",
   "metadata": {},
   "outputs": [
    {
     "data": {
      "application/vnd.jupyter.widget-view+json": {
       "model_id": "58bd8d4b0d794ff1b9a4aea0d03727fc",
       "version_major": 2,
       "version_minor": 0
      },
      "text/plain": [
       "Button(button_style='success', description='Кнопка', style=ButtonStyle())"
      ]
     },
     "metadata": {},
     "output_type": "display_data"
    }
   ],
   "source": [
    "from ipywidgets import Button\n",
    "button1 = Button(description=\"Кнопка\", \n",
    "                        button_style='success' # 'success', 'info', 'warning', 'danger', ''\n",
    "                        )\n",
    "\n",
    "def on_button_clicked(b):\n",
    "    print(\"Нажатие\")\n",
    "\n",
    "button1.on_click(on_button_clicked) # Назначаем этот обработчик на событие \"on_click\"\n",
    "\n",
    "display(button1)"
   ]
  },
  {
   "cell_type": "code",
   "execution_count": 4,
   "id": "ee5cf01d",
   "metadata": {},
   "outputs": [
    {
     "data": {
      "application/vnd.jupyter.widget-view+json": {
       "model_id": "2f27fc7dcf5b43e99166449242c2594d",
       "version_major": 2,
       "version_minor": 0
      },
      "text/plain": [
       "FloatSlider(value=7.5, continuous_update=False, description='Параметр:', max=10.0)"
      ]
     },
     "metadata": {},
     "output_type": "display_data"
    }
   ],
   "source": [
    "from ipywidgets import FloatSlider\n",
    "\n",
    "fSlider = FloatSlider(\n",
    "    value=7.5, # Первоначальное значение\n",
    "    min=0,\n",
    "    max=10.0,\n",
    "    step=0.1,  # Шаг изменения\n",
    "    description='Параметр:',\n",
    "    continuous_update=False,  # True - событие observe возникает для каждого шага при изменении значения\n",
    "    orientation='horizontal'  # Горизонтальное или вертикальное расположение\n",
    ")\n",
    "\n",
    "def on_value_change(b):\n",
    "    print(b['old'], '->', b['new'])\n",
    "\n",
    "fSlider.observe(on_value_change, names='value')\n",
    "display(fSlider)"
   ]
  },
  {
   "cell_type": "code",
   "execution_count": 5,
   "id": "0793cd12",
   "metadata": {},
   "outputs": [
    {
     "data": {
      "application/vnd.jupyter.widget-view+json": {
       "model_id": "d7e8b133007b4efca9102443ac2b5416",
       "version_major": 2,
       "version_minor": 0
      },
      "text/plain": [
       "interactive(children=(IntSlider(value=5, description='number', max=10, min=1), Output()), _dom_classes=('widge…"
      ]
     },
     "metadata": {},
     "output_type": "display_data"
    }
   ],
   "source": [
    "import ipywidgets\n",
    "@ipywidgets.interact(number=(1,10))\n",
    "def square3(number):\n",
    "    return number*number"
   ]
  },
  {
   "cell_type": "code",
   "execution_count": 6,
   "id": "edb745b5",
   "metadata": {},
   "outputs": [
    {
     "data": {
      "application/vnd.jupyter.widget-view+json": {
       "model_id": "7f489b9b3b324e3e892721b45d2ad34f",
       "version_major": 2,
       "version_minor": 0
      },
      "text/plain": [
       "interactive(children=(Button(description='Run Interact', style=ButtonStyle()), Output()), _dom_classes=('widge…"
      ]
     },
     "metadata": {},
     "output_type": "display_data"
    }
   ],
   "source": [
    "import random\n",
    "from PIL import Image\n",
    "\n",
    "@ipywidgets.interact_manual()\n",
    "def random_choice():\n",
    "    flower = Image.open('img.jpg')\n",
    "    r, g, b = flower.split()\n",
    "    x = random.choice([r, g, b])\n",
    "    y = random.choice([r, g, b])\n",
    "    z = random.choice([r, g, b])\n",
    "    flower_color = Image.merge('RGB', (x, y, z))\n",
    "    flower_color.show()"
   ]
  },
  {
   "cell_type": "code",
   "execution_count": 7,
   "id": "fdb9d478",
   "metadata": {},
   "outputs": [],
   "source": [
    "b1 = ipywidgets.Button(description='button 1', button_style='success')\n",
    "b2 = ipywidgets.Button(description='button 2', button_style='success')\n",
    "b3 = ipywidgets.Button(description='button 3', button_style='success')\n",
    "\n",
    "def on_button_clicked1(b): # Описываем обработчик события\n",
    "    print(\"Нажатие 1\")\n",
    "\n",
    "b1.on_click(on_button_clicked1)\n",
    "\n",
    "def on_button_clicked2(b): # Описываем обработчик события\n",
    "    print(\"Нажатие 2\")\n",
    "\n",
    "b2.on_click(on_button_clicked2)\n",
    "\n",
    "def on_button_clicked3(b): # Описываем обработчик события\n",
    "    print(\"Нажатие 3\")\n",
    "\n",
    "b3.on_click(on_button_clicked3)"
   ]
  },
  {
   "cell_type": "code",
   "execution_count": 8,
   "id": "13699778",
   "metadata": {},
   "outputs": [
    {
     "data": {
      "application/vnd.jupyter.widget-view+json": {
       "model_id": "ac1b1e6c64d149fb92fe8408dfbd3338",
       "version_major": 2,
       "version_minor": 0
      },
      "text/plain": [
       "HBox(children=(Button(button_style='success', description='button 1', style=ButtonStyle()), Button(button_styl…"
      ]
     },
     "metadata": {},
     "output_type": "display_data"
    }
   ],
   "source": [
    "ipywidgets.HBox([b1, b2, b3])"
   ]
  },
  {
   "cell_type": "code",
   "execution_count": 9,
   "id": "38f2bd92",
   "metadata": {},
   "outputs": [
    {
     "data": {
      "application/vnd.jupyter.widget-view+json": {
       "model_id": "7027dd4fa35e44c48257830634bc6c9c",
       "version_major": 2,
       "version_minor": 0
      },
      "text/plain": [
       "Dropdown(description='Цвет:', index=1, options=(('Красный', 1), ('Желтый', 2), ('Зеленый', 3)), value=2)"
      ]
     },
     "metadata": {},
     "output_type": "display_data"
    }
   ],
   "source": [
    "dropdown1 = ipywidgets.Dropdown(\n",
    "    options=[('Красный', 1), ('Желтый', 2), ('Зеленый', 3)],\n",
    "    value=2,\n",
    "    description='Цвет:' \n",
    ")\n",
    "\n",
    "def on_button_clicked(b):\n",
    "    print(b['old'], '->', b['new'])\n",
    "\n",
    "dropdown1.observe(on_button_clicked, names='value')\n",
    "display(dropdown1)"
   ]
  },
  {
   "cell_type": "markdown",
   "id": "2b09b135",
   "metadata": {},
   "source": [
    "Примеры окна"
   ]
  },
  {
   "cell_type": "code",
   "execution_count": 10,
   "id": "dc218ab9",
   "metadata": {},
   "outputs": [
    {
     "data": {
      "application/vnd.jupyter.widget-view+json": {
       "model_id": "ce1b2cca594b4786a2f576c6bc1dcbf9",
       "version_major": 2,
       "version_minor": 0
      },
      "text/plain": [
       "VBox(children=(Dropdown(description='Категория задачи:', index=1, options=(('training', 1), ('testing', 2), ('…"
      ]
     },
     "metadata": {},
     "output_type": "display_data"
    }
   ],
   "source": [
    "style = {'description_width': '200px', 'width' : '500px'}\n",
    "a1 = ipywidgets.Dropdown(\n",
    "    options=[('training', 1), ('testing', 2), ('database', 3), ('history', 4)],\n",
    "    value=2,\n",
    "    description='Категория задачи:',\n",
    "    style = style\n",
    ")\n",
    "\n",
    "def on_button_clicked1(b):\n",
    "    print('Список 1:', b['old'], '->', b['new'])\n",
    "    \n",
    "a2 = ipywidgets.Dropdown(\n",
    "    options=[('classification', 1), ('segmentation', 2), ('detection', 3)],\n",
    "    value=2,\n",
    "    description='Тип задачи:',\n",
    "    style = style\n",
    ")\n",
    "\n",
    "def on_button_clicked2(b):\n",
    "    print('Список 2:', b['old'], '->', b['new'])\n",
    "    \n",
    "a3 = ipywidgets.Dropdown(\n",
    "    options=[('cats', 1), ('dogs', 2)],\n",
    "    value=2,\n",
    "    description='Категория объектов интереса:',\n",
    "    style = style\n",
    ")\n",
    "\n",
    "def on_button_clicked3(b):\n",
    "    print('Список 3:', b['old'], '->', b['new'])\n",
    "    \n",
    "a4 = ipywidgets.Dropdown(\n",
    "    options=[('loss', 1), ('metrics', 2)],\n",
    "    value=2,\n",
    "    description='Цель:',\n",
    "    style = style\n",
    ")\n",
    "\n",
    "def on_button_clicked4(b):\n",
    "    print('Список 4:', b['old'], '->', b['new'])\n",
    "    \n",
    "a5 = ipywidgets.BoundedFloatText(\n",
    "    value=0.7,\n",
    "    min=0,\n",
    "    max=1,\n",
    "    step=0.05,\n",
    "    description='Значение цели:',\n",
    "    disabled=False,\n",
    "    style = style\n",
    ")\n",
    "\n",
    "a1.observe(on_button_clicked1, names='value')\n",
    "a2.observe(on_button_clicked2, names='value')\n",
    "a3.observe(on_button_clicked3, names='value')\n",
    "a4.observe(on_button_clicked4, names='value')\n",
    "\n",
    "a6 = ipywidgets.Button(description='Закончить работу', style = {'button_color': 'rgb(0,140,255)'}, \n",
    "                       layout=ipywidgets.Layout(width='500px', height='28px'),)\n",
    "\n",
    "f1 = ipywidgets.VBox([a1, a2, a3, a4, a5, a6])\n",
    "f1"
   ]
  },
  {
   "cell_type": "code",
   "execution_count": 11,
   "id": "d72da996",
   "metadata": {},
   "outputs": [
    {
     "data": {
      "application/vnd.jupyter.widget-view+json": {
       "model_id": "679e8577ad25465f986f503da21b71fc",
       "version_major": 2,
       "version_minor": 0
      },
      "text/plain": [
       "VBox(children=(HBox(children=(VBox(children=(Label(value='Приёмы:'), Button(description='Выбрать другую страте…"
      ]
     },
     "metadata": {},
     "output_type": "display_data"
    }
   ],
   "source": [
    "style = {'button_color': 'rgb(0,140,255)'}\n",
    "c1 = ipywidgets.Button(\n",
    "    description='Выбрать другую стратегию (из истории системы)',\n",
    "    disabled=False,\n",
    "    button_style='', # 'success', 'info', 'warning', 'danger' or ''\n",
    "    tooltip='Click me',\n",
    "    layout=ipywidgets.Layout(width='500px', height='28px'),\n",
    "    style = style\n",
    ")\n",
    "c2 = ipywidgets.Button(\n",
    "    description='Вручную задать параметры обучения',\n",
    "    disabled=False,\n",
    "    button_style='', # 'success', 'info', 'warning', 'danger' or ''\n",
    "    tooltip='Click me',\n",
    "    layout=ipywidgets.Layout(width='500px', height='28px'),\n",
    "    style = style\n",
    ")\n",
    "c3 = ipywidgets.Button(\n",
    "    description='Обучение по сетке',\n",
    "    disabled=False,\n",
    "    button_style='', # 'success', 'info', 'warning', 'danger' or ''\n",
    "    tooltip='Click me',\n",
    "    layout=ipywidgets.Layout(width='500px', height='28px'),\n",
    "    style = style\n",
    ")\n",
    "c4 = ipywidgets.Button(\n",
    "    description='Изменить архитектуру модели (случайно\\по истории\\по спец. технологии)',\n",
    "    disabled=False,\n",
    "    button_style='', # 'success', 'info', 'warning', 'danger' or ''\n",
    "    tooltip='Click me',\n",
    "    layout=ipywidgets.Layout(width='500px', height='28px'),\n",
    "    style = style\n",
    ")\n",
    "c5 = ipywidgets.Button(\n",
    "    description='изменить расписание скорости обучения',\n",
    "    disabled=False,\n",
    "    button_style='', # 'success', 'info', 'warning', 'danger' or ''\n",
    "    tooltip='Click me',\n",
    "    layout=ipywidgets.Layout(width='500px', height='28px'),\n",
    "    style = style\n",
    ")\n",
    "d1 = ipywidgets.VBox([ipywidgets.Label('Приёмы:'), c1, c2, c3, c4, c5])\n",
    "e1 = ipywidgets.FloatText(\n",
    "    value=0.5,\n",
    "    disabled=False,\n",
    "    layout=ipywidgets.Layout(width='80px', height='28px')\n",
    ")\n",
    "e2 = ipywidgets.FloatText(\n",
    "    value=0.5,\n",
    "    disabled=False,\n",
    "    layout=ipywidgets.Layout(width='80px', height='28px')\n",
    ")\n",
    "e3 = ipywidgets.FloatText(\n",
    "    value=0.5,\n",
    "    disabled=False,\n",
    "    layout=ipywidgets.Layout(width='80px', height='28px')\n",
    ")\n",
    "e4 = ipywidgets.FloatText(\n",
    "    value=0.5,\n",
    "    disabled=False,\n",
    "    layout=ipywidgets.Layout(width='80px', height='28px')\n",
    ")\n",
    "e5 = ipywidgets.FloatText(\n",
    "    value=0.5,\n",
    "    disabled=False,\n",
    "    layout=ipywidgets.Layout(width='80px', height='28px')\n",
    ")\n",
    "d2 = ipywidgets.VBox([ipywidgets.Label('Текущее распределение вероятности «успеха»'), e1, e2, e3, e4, e5])\n",
    "d3 = ipywidgets.HBox([d1, d2])\n",
    "c6 = ipywidgets.Button(\n",
    "    description='Случайный прием',\n",
    "    disabled=False,\n",
    "    button_style='', # 'success', 'info', 'warning', 'danger' or ''\n",
    "    tooltip='Click me',\n",
    "    layout=ipywidgets.Layout(width='200px', height='50px'),\n",
    "    style = {'button_color': 'rgb(204,0,255)'}\n",
    ")\n",
    "c7 = ipywidgets.Button(\n",
    "    description='Закончить обучение',\n",
    "    disabled=False,\n",
    "    button_style='', # 'success', 'info', 'warning', 'danger' or ''\n",
    "    tooltip='Click me',\n",
    "    layout=ipywidgets.Layout(width='200px', height='50px'),\n",
    "    style = {'button_color': 'rgb(255,119,0)'}\n",
    ")\n",
    "d4 = ipywidgets.HBox([c6, c7])\n",
    "d5 = ipywidgets.VBox([d3, d4])\n",
    "d5"
   ]
  },
  {
   "cell_type": "code",
   "execution_count": 36,
   "id": "d18e337f",
   "metadata": {},
   "outputs": [
    {
     "data": {
      "application/vnd.jupyter.widget-view+json": {
       "model_id": "9106300ab48e49fcb8cd4d9e19700008",
       "version_major": 2,
       "version_minor": 0
      },
      "text/plain": [
       "VBox(children=(Dropdown(description='Параметры базы данных:', index=1, options=(('classification', 1), ('segme…"
      ]
     },
     "metadata": {},
     "output_type": "display_data"
    }
   ],
   "source": [
    "a7 = ipywidgets.Dropdown(\n",
    "    options=[('classification', 1), ('segmentation', 2), ('detection', 3)],\n",
    "    value=2,\n",
    "    description='Параметры базы данных:',\n",
    "    style = {'description_width': '200px', 'width' : '500px'}\n",
    ")\n",
    "\n",
    "def on_button_clicked7(b):\n",
    "    print('Список 1:', b['old'], '->', b['new'])\n",
    "    \n",
    "a8= ipywidgets.Dropdown(\n",
    "    options=[('classification', 1), ('segmentation', 2), ('detection', 3)],\n",
    "    value=2,\n",
    "    description='Параметры обычения:',\n",
    "    style = {'description_width': '200px', 'width' : '500px'}\n",
    ")\n",
    "\n",
    "def on_button_clicked8(b):\n",
    "    print('Список 2:', b['old'], '->', b['new'])\n",
    "    \n",
    "a9 = ipywidgets.Dropdown(\n",
    "    options=[('classification', 1), ('segmentation', 2), ('detection', 3)],\n",
    "    value=2,\n",
    "    description='Архитектура модели:',\n",
    "    style = {'description_width': '200px', 'width' : '500px'}\n",
    ")\n",
    "\n",
    "def on_button_clicked9(b):\n",
    "    print('Список 3:', b['old'], '->', b['new'])\n",
    "    \n",
    "a10 = ipywidgets.Button(\n",
    "    description='Прекратить обучение',\n",
    "    disabled=False,\n",
    "    button_style='', # 'success', 'info', 'warning', 'danger' or ''\n",
    "    tooltip='Click me',\n",
    "    layout=ipywidgets.Layout(width='200px', height='40px'),\n",
    "    style = {'button_color': 'rgb(0,178,255)'}\n",
    ")\n",
    "\n",
    "a7.observe(on_button_clicked7, names='value')\n",
    "a8.observe(on_button_clicked8, names='value')\n",
    "a9.observe(on_button_clicked9, names='value')\n",
    "\n",
    "f2 = ipywidgets.VBox([a7, a8, a9, a10])\n",
    "f2"
   ]
  },
  {
   "cell_type": "code",
   "execution_count": 13,
   "id": "0090dbce",
   "metadata": {},
   "outputs": [
    {
     "data": {
      "application/vnd.jupyter.widget-view+json": {
       "model_id": "0727948738a64c96b1c4645779bb3d45",
       "version_major": 2,
       "version_minor": 0
      },
      "text/plain": [
       "Tab(children=(Text(value='', description='P0'), Text(value='', description='P1'), Text(value='', description='…"
      ]
     },
     "metadata": {},
     "output_type": "display_data"
    }
   ],
   "source": [
    "tab_contents = ['P0', 'P1', 'P2', 'P3', 'P4']\n",
    "children = [ipywidgets.Text(description=name) for name in tab_contents]\n",
    "tab = ipywidgets.Tab()\n",
    "tab.children = children\n",
    "tab.titles = [str(i) for i in range(len(children))]\n",
    "tab"
   ]
  },
  {
   "cell_type": "code",
   "execution_count": 28,
   "id": "8378d978",
   "metadata": {},
   "outputs": [
    {
     "data": {
      "application/vnd.jupyter.widget-view+json": {
       "model_id": "0d3b2f468cc3474fb7204b17fd82bfc0",
       "version_major": 2,
       "version_minor": 0
      },
      "text/plain": [
       "VBox(children=(Button(description='Вручную задать параметры обучения', layout=Layout(height='80px', width='640…"
      ]
     },
     "metadata": {},
     "output_type": "display_data"
    }
   ],
   "source": [
    "h1 = ipywidgets.Button(\n",
    "    description='Вручную задать параметры обучения',\n",
    "    disabled=False,\n",
    "    button_style='', # 'success', 'info', 'warning', 'danger' or ''\n",
    "    tooltip='Click me',\n",
    "    layout=ipywidgets.Layout(width='640px', height='80px'),\n",
    "    style = {'button_color': 'rgb(255,255,0)'}\n",
    ")\n",
    "h2 = ipywidgets.Button(\n",
    "    description='Обучить одну модель с т.зр. лучшей стратегии по сохраненной в системе истории обучения моделей',\n",
    "    disabled=False,\n",
    "    button_style='', # 'success', 'info', 'warning', 'danger' or ''\n",
    "    tooltip='Click me',\n",
    "    layout=ipywidgets.Layout(width='640px', height='80px'),\n",
    "    style = {'button_color': 'rgb(255,255,0)'}\n",
    ")\n",
    "h3 = ipywidgets.Button(\n",
    "    description='Обучение по сетке',\n",
    "    disabled=False,\n",
    "    button_style='', # 'success', 'info', 'warning', 'danger' or ''\n",
    "    tooltip='Click me',\n",
    "    layout=ipywidgets.Layout(width='640px', height='80px'),\n",
    "    style = {'button_color': 'rgb(255,255,0)'}\n",
    ")\n",
    "def on_button_clicked1(b): # Описываем обработчик события\n",
    "    tab.selected_index = 2\n",
    "h1.on_click(on_button_clicked1)    \n",
    "d6 = ipywidgets.VBox( [h1, h2, h3])\n",
    "d6"
   ]
  },
  {
   "cell_type": "code",
   "execution_count": 15,
   "id": "0bd8212a",
   "metadata": {},
   "outputs": [
    {
     "data": {
      "application/vnd.jupyter.widget-view+json": {
       "model_id": "dc0404d04b3b4d27a3f739737ca0ccf4",
       "version_major": 2,
       "version_minor": 0
      },
      "text/plain": [
       "Accordion(children=(VBox(children=(Dropdown(description='Категория задачи:', index=1, options=(('training', 1)…"
      ]
     },
     "metadata": {},
     "output_type": "display_data"
    }
   ],
   "source": [
    "children = [f1, d6, d5, f2]\n",
    "accordion = ipywidgets.Accordion(children=children, titles=('Screen 1', 'Screen 2', 'Screen 3'))\n",
    "accordion"
   ]
  },
  {
   "cell_type": "code",
   "execution_count": 17,
   "id": "22152d86",
   "metadata": {},
   "outputs": [
    {
     "data": {
      "application/vnd.jupyter.widget-view+json": {
       "model_id": "725afa70128146a5925d22bd97f7f415",
       "version_major": 2,
       "version_minor": 0
      },
      "text/plain": [
       "Button(button_style='success', description='button 1', style=ButtonStyle())"
      ]
     },
     "metadata": {},
     "output_type": "display_data"
    }
   ],
   "source": [
    "button1 = ipywidgets.Button(description='button 1', button_style='success')\n",
    "button2 = ipywidgets.Button(description='back', button_style='success')\n",
    "children = [f1, d6, d5, f2, button2]\n",
    "accordion = ipywidgets.Accordion(children=children, titles=('Screen 1', 'Screen 2', 'Screen 3'))\n",
    "def on_button_clicked1(b): # Описываем обработчик события\n",
    "    button1.close()\n",
    "    display(accordion)\n",
    "def on_button_clicked2(accordion):\n",
    "    accordion.close()\n",
    "    display(button1)\n",
    "button1.on_click(on_button_clicked1)\n",
    "button2.on_click(on_button_clicked2)\n",
    "button1"
   ]
  },
  {
   "cell_type": "code",
   "execution_count": 18,
   "id": "6554a167",
   "metadata": {},
   "outputs": [
    {
     "data": {
      "text/plain": [
       "['_dom_classes',\n",
       " '_model_module',\n",
       " '_model_module_version',\n",
       " '_model_name',\n",
       " '_titles',\n",
       " '_view_count',\n",
       " '_view_module',\n",
       " '_view_module_version',\n",
       " '_view_name',\n",
       " 'box_style',\n",
       " 'children',\n",
       " 'layout',\n",
       " 'selected_index']"
      ]
     },
     "execution_count": 18,
     "metadata": {},
     "output_type": "execute_result"
    }
   ],
   "source": [
    "accordion.keys"
   ]
  },
  {
   "cell_type": "code",
   "execution_count": 30,
   "id": "f19e0d38",
   "metadata": {},
   "outputs": [
    {
     "data": {
      "application/vnd.jupyter.widget-view+json": {
       "model_id": "aa9bbf69ed8a4936bd1825ae5b7dcf78",
       "version_major": 2,
       "version_minor": 0
      },
      "text/plain": [
       "Accordion(children=(VBox(children=(Dropdown(description='Категория задачи:', index=1, options=(('training', 1)…"
      ]
     },
     "metadata": {},
     "output_type": "display_data"
    },
    {
     "data": {
      "application/vnd.jupyter.widget-view+json": {
       "model_id": "246dfb85129f40f1965f6eb5b86a242f",
       "version_major": 2,
       "version_minor": 0
      },
      "text/plain": [
       "Button(description='show', style=ButtonStyle())"
      ]
     },
     "metadata": {},
     "output_type": "display_data"
    },
    {
     "data": {
      "application/vnd.jupyter.widget-view+json": {
       "model_id": "50141a13fba04450a8ebe42c0d0ca055",
       "version_major": 2,
       "version_minor": 0
      },
      "text/plain": [
       "Button(description='hide', style=ButtonStyle())"
      ]
     },
     "metadata": {},
     "output_type": "display_data"
    }
   ],
   "source": [
    "button = ipywidgets.Button(description='show')\n",
    "close = ipywidgets.Button(description='hide')\n",
    "children = [f1, d6, d5, f2]\n",
    "accordion = ipywidgets.Accordion(children=children)\n",
    "display(accordion)\n",
    "def on_show(b):\n",
    "    accordion.layout.display=None\n",
    "def on_hide(b):\n",
    "    accordion.layout.display='none'\n",
    "button.on_click(on_show)\n",
    "close.on_click(on_hide)\n",
    "display(button)\n",
    "display(close)"
   ]
  },
  {
   "cell_type": "code",
   "execution_count": 41,
   "id": "98d80ac7",
   "metadata": {},
   "outputs": [
    {
     "data": {
      "application/vnd.jupyter.widget-view+json": {
       "model_id": "e7e47b11ccb2413583143ebcefc603a5",
       "version_major": 2,
       "version_minor": 0
      },
      "text/plain": [
       "VBox(children=(Dropdown(description='Найдены подходящие стратегии:', options=(('Стратегия 1', 1), ('Стратегия …"
      ]
     },
     "metadata": {},
     "output_type": "display_data"
    }
   ],
   "source": [
    "a11 = ipywidgets.Dropdown(\n",
    "    options=[('Стратегия 1', 1), ('Стратегия 2', 2), ('Стратегия 3', 3)],\n",
    "    value=1,\n",
    "    description='Найдены подходящие стратегии:',\n",
    "    style = {'description_width': '200px', 'width' : '600px'}\n",
    ")\n",
    "\n",
    "def on_button_clicked7(b):\n",
    "    print('Список 1:', b['old'], '->', b['new'])\n",
    "    \n",
    "btn_yes = ipywidgets.Button(description='Да', style = {'button_color': 'rgb(0,255,0)'})\n",
    "btn_no = ipywidgets.Button(description='Нет', style = {'button_color': 'rgb(255,0,0)'})\n",
    "\n",
    "def on_btn_yes(b):\n",
    "    tab.selected_index = 4\n",
    "def on_btn_no(b):\n",
    "    tab.selected_index = 0\n",
    "    \n",
    "btn_yes.on_click(on_btn_yes)\n",
    "btn_no.on_click(on_btn_no)\n",
    "\n",
    "HB = ipywidgets.HBox([ipywidgets.Label('Хотите обучить новую модель или закончить работу? : '), btn_yes, btn_no])\n",
    "f3 = ipywidgets.VBox([a11, HB])\n",
    "f3"
   ]
  },
  {
   "cell_type": "code",
   "execution_count": 42,
   "id": "33ecf24d",
   "metadata": {},
   "outputs": [
    {
     "data": {
      "application/vnd.jupyter.widget-view+json": {
       "model_id": "1ba44b1bd1574157ae5acb0effc14d56",
       "version_major": 2,
       "version_minor": 0
      },
      "text/plain": [
       "Tab(children=(HBox(children=(VBox(children=(Dropdown(description='Категория задачи:', index=1, options=(('trai…"
      ]
     },
     "metadata": {},
     "output_type": "display_data"
    }
   ],
   "source": [
    "btn_next = ipywidgets.Button(description='next')\n",
    "btn_prev = ipywidgets.Button(description='prev')\n",
    "def on_next(b):\n",
    "    tab.selected_index = tab.selected_index + 1\n",
    "def on_prev(b):\n",
    "    tab.selected_index = tab.selected_index - 1\n",
    "btn_next.on_click(on_next)\n",
    "btn_prev.on_click(on_prev)\n",
    "screen1 = ipywidgets.HBox([f1, btn_next])\n",
    "screen2 = ipywidgets.HBox([f3, btn_next, btn_prev])\n",
    "screen3 = ipywidgets.HBox([d6, btn_next, btn_prev])\n",
    "screen4 = ipywidgets.HBox([f2, btn_next, btn_prev])\n",
    "screen5 = ipywidgets.HBox([d5, btn_prev])\n",
    "tab = ipywidgets.Tab()\n",
    "tab.children = [screen1, screen2, screen3, screen4, screen5]\n",
    "tab.titles = [str(i) for i in range(len(children))]\n",
    "for i in range(5):\n",
    "    title = 'Screen' + str(i+1)\n",
    "    tab.set_title(i, title)\n",
    "tab"
   ]
  },
  {
   "cell_type": "code",
   "execution_count": null,
   "id": "822540b5",
   "metadata": {},
   "outputs": [],
   "source": []
  }
 ],
 "metadata": {
  "kernelspec": {
   "display_name": "Python 3 (ipykernel)",
   "language": "python",
   "name": "python3"
  },
  "language_info": {
   "codemirror_mode": {
    "name": "ipython",
    "version": 3
   },
   "file_extension": ".py",
   "mimetype": "text/x-python",
   "name": "python",
   "nbconvert_exporter": "python",
   "pygments_lexer": "ipython3",
   "version": "3.9.12"
  }
 },
 "nbformat": 4,
 "nbformat_minor": 5
}
