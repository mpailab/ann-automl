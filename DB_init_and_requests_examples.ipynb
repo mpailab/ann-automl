{
 "cells": [
  {
   "cell_type": "code",
   "execution_count": 1,
   "metadata": {},
   "outputs": [],
   "source": [
    "import sqlalchemy\n",
    "import db_module\n",
    "\n",
    "create_new_test_db = True\n",
    "import os\n",
    "if os.path.exists(\"tests.sqlite\"): #Если файл уже есть, заморачиваться с перезаполнением не будем\n",
    "    create_new_test_db = False"
   ]
  },
  {
   "cell_type": "markdown",
   "metadata": {},
   "source": [
    "## Создаем тестовую БД методом класса dbModule"
   ]
  },
  {
   "cell_type": "code",
   "execution_count": 2,
   "metadata": {},
   "outputs": [],
   "source": [
    "myDB = db_module.dbModule(dbstring = 'sqlite:///tests.sqlite')\n",
    "if create_new_test_db:\n",
    "    myDB.create_sqlite_file()"
   ]
  },
  {
   "cell_type": "markdown",
   "metadata": {},
   "source": [
    "## Напечатаем названия таблиц в БД для проверки"
   ]
  },
  {
   "cell_type": "code",
   "execution_count": 3,
   "metadata": {},
   "outputs": [
    {
     "data": {
      "text/plain": [
       "dict_keys(['image', 'dataset', 'category', 'license', 'annotation', 'trainResult', 'categoryToModel', 'model'])"
      ]
     },
     "execution_count": 3,
     "metadata": {},
     "output_type": "execute_result"
    }
   ],
   "source": [
    "db_module.Base.metadata.tables.keys()"
   ]
  },
  {
   "cell_type": "markdown",
   "metadata": {},
   "source": [
    "## Заполним базу аннотациями из COCO -- это необходимо делать один раз"
   ]
  },
  {
   "cell_type": "code",
   "execution_count": 4,
   "metadata": {},
   "outputs": [
    {
     "name": "stdout",
     "output_type": "stream",
     "text": [
      "DB filled in 0.0 seconds\n"
     ]
    }
   ],
   "source": [
    "dataDir=r\"D:\\Work\\AutoML\\annotations_trainval2017\"\n",
    "dataType='train2017'\n",
    "annFile=r\"{}\\annotations\\instances_{}.json\".format(dataDir,dataType)\n",
    "\n",
    "\n",
    "import time\n",
    "\n",
    "begin = time.time()\n",
    "if create_new_test_db:\n",
    "    myDB.fill_coco(annFile, firstTime = True) #Надо указать True чтобы подгрузить категории \n",
    "end = time.time()\n",
    "\n",
    "print('DB filled in', end-begin, 'seconds')"
   ]
  },
  {
   "cell_type": "code",
   "execution_count": 5,
   "metadata": {},
   "outputs": [],
   "source": [
    "myDB.add_model_record(task_type = \"detection\", categories = ['cat','mouse'], model_address = './TrainedNN/New_NetworkFirst', metrics = {'accuracy':0.91}, history_address = '')\n",
    "myDB.add_model_record(task_type = \"classification\", categories = ['cat','dog'], model_address = './TrainedNN/New_NetworkPP', metrics = {'accuracy':0.91}, history_address = '')\n",
    "myDB.add_model_record(task_type = \"classification\", categories = ['cat','dog'], model_address = './TrainedNN/New_NetworkFirst', metrics = {'accuracy':0.80}, history_address = '')\n",
    "myDB.add_model_record(task_type = \"classification\", categories = ['cat','mouse'], model_address = './TrainedNN/New_NetworkPP', metrics = {'accuracy':0.93}, history_address = '')\n",
    "myDB.add_model_record(task_type = \"classification\", categories = ['cat','mouse'], model_address = './TrainedNN/New_NetworkFirst', metrics = {'loss':0.93}, history_address = '')"
   ]
  },
  {
   "cell_type": "code",
   "execution_count": 6,
   "metadata": {},
   "outputs": [],
   "source": [
    "model = myDB.sess.query(db_module.dbModule.Model).join(db_module.dbModule.TrainResult).filter(db_module.dbModule.TrainResult.metric_name.in_(['loss','sd']))"
   ]
  },
  {
   "cell_type": "code",
   "execution_count": 7,
   "metadata": {},
   "outputs": [
    {
     "data": {
      "text/plain": [
       "[<db_module.dbModule.Model at 0x1dc867537c8>]"
      ]
     },
     "execution_count": 7,
     "metadata": {},
     "output_type": "execute_result"
    }
   ],
   "source": [
    "model.all()"
   ]
  },
  {
   "cell_type": "code",
   "execution_count": 8,
   "metadata": {},
   "outputs": [
    {
     "data": {
      "text/html": [
       "<div>\n",
       "<style scoped>\n",
       "    .dataframe tbody tr th:only-of-type {\n",
       "        vertical-align: middle;\n",
       "    }\n",
       "\n",
       "    .dataframe tbody tr th {\n",
       "        vertical-align: top;\n",
       "    }\n",
       "\n",
       "    .dataframe thead th {\n",
       "        text-align: right;\n",
       "    }\n",
       "</style>\n",
       "<table border=\"1\" class=\"dataframe\">\n",
       "  <thead>\n",
       "    <tr style=\"text-align: right;\">\n",
       "      <th></th>\n",
       "      <th>ID</th>\n",
       "      <th>model_address</th>\n",
       "      <th>task_type</th>\n",
       "      <th>aux</th>\n",
       "      <th>ID</th>\n",
       "      <th>metric_name</th>\n",
       "      <th>metric_value</th>\n",
       "      <th>model_id</th>\n",
       "      <th>history_address</th>\n",
       "      <th>aux</th>\n",
       "    </tr>\n",
       "  </thead>\n",
       "  <tbody>\n",
       "    <tr>\n",
       "      <th>0</th>\n",
       "      <td>2</td>\n",
       "      <td>C:\\Users\\fires\\repos\\ann-automl\\TrainedNN\\New_...</td>\n",
       "      <td>classification</td>\n",
       "      <td></td>\n",
       "      <td>4</td>\n",
       "      <td>accuracy</td>\n",
       "      <td>0.93</td>\n",
       "      <td>2</td>\n",
       "      <td>C:\\Users\\fires\\repos\\ann-automl</td>\n",
       "      <td></td>\n",
       "    </tr>\n",
       "    <tr>\n",
       "      <th>1</th>\n",
       "      <td>2</td>\n",
       "      <td>C:\\Users\\fires\\repos\\ann-automl\\TrainedNN\\New_...</td>\n",
       "      <td>classification</td>\n",
       "      <td></td>\n",
       "      <td>9</td>\n",
       "      <td>accuracy</td>\n",
       "      <td>0.93</td>\n",
       "      <td>2</td>\n",
       "      <td>C:\\Users\\fires\\repos\\ann-automl</td>\n",
       "      <td></td>\n",
       "    </tr>\n",
       "    <tr>\n",
       "      <th>2</th>\n",
       "      <td>2</td>\n",
       "      <td>C:\\Users\\fires\\repos\\ann-automl\\TrainedNN\\New_...</td>\n",
       "      <td>classification</td>\n",
       "      <td></td>\n",
       "      <td>14</td>\n",
       "      <td>accuracy</td>\n",
       "      <td>0.93</td>\n",
       "      <td>2</td>\n",
       "      <td>C:\\Users\\fires\\repos\\ann-automl</td>\n",
       "      <td></td>\n",
       "    </tr>\n",
       "  </tbody>\n",
       "</table>\n",
       "</div>"
      ],
      "text/plain": [
       "   ID                                      model_address       task_type aux  \\\n",
       "0   2  C:\\Users\\fires\\repos\\ann-automl\\TrainedNN\\New_...  classification       \n",
       "1   2  C:\\Users\\fires\\repos\\ann-automl\\TrainedNN\\New_...  classification       \n",
       "2   2  C:\\Users\\fires\\repos\\ann-automl\\TrainedNN\\New_...  classification       \n",
       "\n",
       "   ID metric_name  metric_value  model_id                  history_address aux  \n",
       "0   4    accuracy          0.93         2  C:\\Users\\fires\\repos\\ann-automl      \n",
       "1   9    accuracy          0.93         2  C:\\Users\\fires\\repos\\ann-automl      \n",
       "2  14    accuracy          0.93         2  C:\\Users\\fires\\repos\\ann-automl      "
      ]
     },
     "execution_count": 8,
     "metadata": {},
     "output_type": "execute_result"
    }
   ],
   "source": [
    "myDB.get_models_by_filter({'min_metrics':{'accuracy':0.92}, 'categories':['cat','mouse']})"
   ]
  },
  {
   "cell_type": "code",
   "execution_count": 11,
   "metadata": {},
   "outputs": [
    {
     "name": "stdout",
     "output_type": "stream",
     "text": [
      "Train shape: (12386, 7)  test shape: (4129, 7) validation shape (4129, 7)\n"
     ]
    },
    {
     "data": {
      "text/plain": [
       "(              file_name                                           coco_url  \\\n",
       " 0      000000202273.jpg  http://images.cocodataset.org/train2017/000000...   \n",
       " 1      000000475407.jpg  http://images.cocodataset.org/train2017/000000...   \n",
       " 2      000000019608.jpg  http://images.cocodataset.org/train2017/000000...   \n",
       " 3      000000469793.jpg  http://images.cocodataset.org/train2017/000000...   \n",
       " 4      000000358765.jpg  http://images.cocodataset.org/train2017/000000...   \n",
       " ...                 ...                                                ...   \n",
       " 20639  000000561931.jpg  http://images.cocodataset.org/train2017/000000...   \n",
       " 20640  000000214131.jpg  http://images.cocodataset.org/train2017/000000...   \n",
       " 20641  000000181515.jpg  http://images.cocodataset.org/train2017/000000...   \n",
       " 20642  000000116123.jpg  http://images.cocodataset.org/train2017/000000...   \n",
       " 20643  000000509691.jpg  http://images.cocodataset.org/train2017/000000...   \n",
       " \n",
       "        category_id                             bbox  \\\n",
       " 0               16   [313.47, 57.15, 158.71, 48.25]   \n",
       " 1               16    [323.77, 72.14, 85.31, 84.28]   \n",
       " 2               16    [64.44, 416.97, 91.72, 180.1]   \n",
       " 3               16   [186.78, 177.17, 68.67, 52.19]   \n",
       " 4               16  [145.55, 82.58, 267.35, 307.61]   \n",
       " ...            ...                              ...   \n",
       " 20639           15              [67, 316, 443, 167]   \n",
       " 20640           16               [0, 158, 637, 265]   \n",
       " 20641           16               [0, 128, 634, 197]   \n",
       " 20642           16                [0, 33, 579, 334]   \n",
       " 20643           16                  [9, 0, 328, 69]   \n",
       " \n",
       "                                             segmentation  width  height  \n",
       " 0      [[390.68, 89.32, 378.88, 102.19, 345.64, 105.4...    480     640  \n",
       " 1      [[324.8, 76.25, 336.1, 106.06, 351.52, 127.64,...    640     480  \n",
       " 2      [[64.44, 547.04, 64.44, 513.69, 69.44, 498.68,...    427     640  \n",
       " 3      [[186.78, 214.25, 247.21, 177.17, 255.45, 212....    561     640  \n",
       " 4      [[266.32, 341.68, 254.97, 318.97, 249.81, 328....    640     480  \n",
       " ...                                                  ...    ...     ...  \n",
       " 20639  {\"counts\": [32863, 6, 477, 8, 461, 7, 4, 13, 4...    640     484  \n",
       " 20640  {\"counts\": [175, 6, 470, 24, 49, 16, 48, 27, 4...    640     480  \n",
       " 20641  {\"counts\": [302, 6, 459, 11, 1, 10, 458, 23, 4...    640     480  \n",
       " 20642  {\"counts\": [234, 6, 313, 6, 101, 8, 311, 8, 99...    640     427  \n",
       " 20643  {\"counts\": [3262, 3, 355, 5, 352, 7, 351, 8, 3...    640     359  \n",
       " \n",
       " [20644 rows x 7 columns],\n",
       " {'train': 'train.csv', 'test': 'test.csv', 'validate': 'validate.csv'},\n",
       " 596.0808951753536,\n",
       " 465.7062100368146)"
      ]
     },
     "execution_count": 11,
     "metadata": {},
     "output_type": "execute_result"
    }
   ],
   "source": [
    "myDB.load_specific_categories_annotations([15,16])"
   ]
  },
  {
   "cell_type": "code",
   "execution_count": null,
   "metadata": {},
   "outputs": [],
   "source": []
  },
  {
   "cell_type": "code",
   "execution_count": null,
   "metadata": {},
   "outputs": [],
   "source": []
  }
 ],
 "metadata": {
  "kernelspec": {
   "display_name": "Python 3",
   "language": "python",
   "name": "python3"
  },
  "language_info": {
   "codemirror_mode": {
    "name": "ipython",
    "version": 3
   },
   "file_extension": ".py",
   "mimetype": "text/x-python",
   "name": "python",
   "nbconvert_exporter": "python",
   "pygments_lexer": "ipython3",
   "version": "3.7.6"
  }
 },
 "nbformat": 4,
 "nbformat_minor": 4
}
