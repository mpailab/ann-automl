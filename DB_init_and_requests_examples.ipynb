{
 "cells": [
  {
   "cell_type": "code",
   "execution_count": 1,
   "metadata": {},
   "outputs": [],
   "source": [
    "import sqlalchemy\n",
    "import db_module\n",
    "\n",
    "create_new_test_db = True\n",
    "import os\n",
    "if os.path.exists(\"tests.sqlite\"): #Если файл уже есть, заморачиваться с перезаполнением не будем\n",
    "    create_new_test_db = False"
   ]
  },
  {
   "cell_type": "markdown",
   "metadata": {},
   "source": [
    "## Создаем тестовую БД методом класса dbModule"
   ]
  },
  {
   "cell_type": "code",
   "execution_count": 2,
   "metadata": {},
   "outputs": [],
   "source": [
    "myDB = db_module.dbModule(dbstring = 'sqlite:///tests.sqlite')\n",
    "if create_new_test_db:\n",
    "    myDB.create_sqlite_file()"
   ]
  },
  {
   "cell_type": "markdown",
   "metadata": {},
   "source": [
    "## Напечатаем названия таблиц в БД для проверки"
   ]
  },
  {
   "cell_type": "code",
   "execution_count": 3,
   "metadata": {},
   "outputs": [
    {
     "data": {
      "text/plain": [
       "dict_keys(['image', 'dataset', 'category', 'license', 'annotation', 'trainResult', 'categoryToModel', 'model'])"
      ]
     },
     "execution_count": 3,
     "metadata": {},
     "output_type": "execute_result"
    }
   ],
   "source": [
    "db_module.Base.metadata.tables.keys()"
   ]
  },
  {
   "cell_type": "markdown",
   "metadata": {},
   "source": [
    "## Заполним базу аннотациями из COCO -- это необходимо делать один раз"
   ]
  },
  {
   "cell_type": "code",
   "execution_count": 4,
   "metadata": {},
   "outputs": [
    {
     "name": "stdout",
     "output_type": "stream",
     "text": [
      "DB filled in 0.0 seconds\n"
     ]
    }
   ],
   "source": [
    "dataDir=r\"D:\\Work\\AutoML\\annotations_trainval2017\"\n",
    "dataType='train2017'\n",
    "annFile=r\"{}\\annotations\\instances_{}.json\".format(dataDir,dataType)\n",
    "\n",
    "\n",
    "import time\n",
    "\n",
    "begin = time.time()\n",
    "if create_new_test_db:\n",
    "    myDB.fill_cats_dogs() #Загружаем базу Kaggle - кошки и собаки\n",
    "    myDB.fill_coco(annFile, firstTime = True) #Надо указать True чтобы подгрузить категории \n",
    "end = time.time()\n",
    "\n",
    "print('DB filled in', end-begin, 'seconds')"
   ]
  },
  {
   "cell_type": "markdown",
   "metadata": {},
   "source": [
    "## Добавляем информацию о моделях в БД - эта информация может в дальнейшем использоваться для рекомендаций при подготовке новых моделей"
   ]
  },
  {
   "cell_type": "code",
   "execution_count": 5,
   "metadata": {},
   "outputs": [],
   "source": [
    "myDB.add_model_record(task_type = \"detection\", categories = ['cat','mouse'], model_address = './TrainedNN/New_NetworkFirst', metrics = {'accuracy':0.91}, history_address = '')\n",
    "myDB.add_model_record(task_type = \"classification\", categories = ['cat','dog'], model_address = './TrainedNN/New_NetworkPP', metrics = {'accuracy':0.91}, history_address = '')\n",
    "myDB.add_model_record(task_type = \"classification\", categories = ['cat','dog'], model_address = './TrainedNN/New_NetworkFirst', metrics = {'accuracy':0.80}, history_address = '')\n",
    "myDB.add_model_record(task_type = \"classification\", categories = ['cat','mouse'], model_address = './TrainedNN/New_NetworkPP', metrics = {'accuracy':0.93}, history_address = '')\n",
    "myDB.add_model_record(task_type = \"classification\", categories = ['cat','mouse'], model_address = './TrainedNN/New_NetworkFirst', metrics = {'loss':0.93}, history_address = '')"
   ]
  },
  {
   "cell_type": "markdown",
   "metadata": {},
   "source": [
    "## Пример запроса к базе - ищем модель, удовлетворяющую критериям: \"минимальная точность - 0.92, категории, с которыми работает модель - кошки, мыши\". Поиск идет на включение категорий, без точного совпадения"
   ]
  },
  {
   "cell_type": "code",
   "execution_count": 6,
   "metadata": {},
   "outputs": [
    {
     "data": {
      "text/html": [
       "<div>\n",
       "<style scoped>\n",
       "    .dataframe tbody tr th:only-of-type {\n",
       "        vertical-align: middle;\n",
       "    }\n",
       "\n",
       "    .dataframe tbody tr th {\n",
       "        vertical-align: top;\n",
       "    }\n",
       "\n",
       "    .dataframe thead th {\n",
       "        text-align: right;\n",
       "    }\n",
       "</style>\n",
       "<table border=\"1\" class=\"dataframe\">\n",
       "  <thead>\n",
       "    <tr style=\"text-align: right;\">\n",
       "      <th></th>\n",
       "      <th>ID</th>\n",
       "      <th>model_address</th>\n",
       "      <th>task_type</th>\n",
       "      <th>aux</th>\n",
       "      <th>ID</th>\n",
       "      <th>metric_name</th>\n",
       "      <th>metric_value</th>\n",
       "      <th>model_id</th>\n",
       "      <th>history_address</th>\n",
       "      <th>aux</th>\n",
       "    </tr>\n",
       "  </thead>\n",
       "  <tbody>\n",
       "    <tr>\n",
       "      <th>0</th>\n",
       "      <td>2</td>\n",
       "      <td>C:\\Users\\fires\\repos\\ann-automl\\TrainedNN\\New_...</td>\n",
       "      <td>classification</td>\n",
       "      <td></td>\n",
       "      <td>4</td>\n",
       "      <td>accuracy</td>\n",
       "      <td>0.93</td>\n",
       "      <td>2</td>\n",
       "      <td>C:\\Users\\fires\\repos\\ann-automl</td>\n",
       "      <td></td>\n",
       "    </tr>\n",
       "  </tbody>\n",
       "</table>\n",
       "</div>"
      ],
      "text/plain": [
       "   ID                                      model_address       task_type aux  \\\n",
       "0   2  C:\\Users\\fires\\repos\\ann-automl\\TrainedNN\\New_...  classification       \n",
       "\n",
       "   ID metric_name  metric_value  model_id                  history_address aux  \n",
       "0   4    accuracy          0.93         2  C:\\Users\\fires\\repos\\ann-automl      "
      ]
     },
     "execution_count": 6,
     "metadata": {},
     "output_type": "execute_result"
    }
   ],
   "source": [
    "myDB.get_models_by_filter({'min_metrics':{'accuracy':0.92}, 'categories':['cat','mouse']})"
   ]
  },
  {
   "cell_type": "markdown",
   "metadata": {},
   "source": [
    "## Пример запроса к базе - получаем перечень всех доступных категорий"
   ]
  },
  {
   "cell_type": "code",
   "execution_count": 7,
   "metadata": {},
   "outputs": [
    {
     "data": {
      "text/html": [
       "<div>\n",
       "<style scoped>\n",
       "    .dataframe tbody tr th:only-of-type {\n",
       "        vertical-align: middle;\n",
       "    }\n",
       "\n",
       "    .dataframe tbody tr th {\n",
       "        vertical-align: top;\n",
       "    }\n",
       "\n",
       "    .dataframe thead th {\n",
       "        text-align: right;\n",
       "    }\n",
       "</style>\n",
       "<table border=\"1\" class=\"dataframe\">\n",
       "  <thead>\n",
       "    <tr style=\"text-align: right;\">\n",
       "      <th></th>\n",
       "      <th>ID</th>\n",
       "      <th>supercategory</th>\n",
       "      <th>name</th>\n",
       "      <th>aux</th>\n",
       "    </tr>\n",
       "  </thead>\n",
       "  <tbody>\n",
       "    <tr>\n",
       "      <th>0</th>\n",
       "      <td>1</td>\n",
       "      <td>person</td>\n",
       "      <td>person</td>\n",
       "      <td></td>\n",
       "    </tr>\n",
       "    <tr>\n",
       "      <th>1</th>\n",
       "      <td>2</td>\n",
       "      <td>vehicle</td>\n",
       "      <td>bicycle</td>\n",
       "      <td></td>\n",
       "    </tr>\n",
       "    <tr>\n",
       "      <th>2</th>\n",
       "      <td>3</td>\n",
       "      <td>vehicle</td>\n",
       "      <td>car</td>\n",
       "      <td></td>\n",
       "    </tr>\n",
       "    <tr>\n",
       "      <th>3</th>\n",
       "      <td>4</td>\n",
       "      <td>vehicle</td>\n",
       "      <td>motorcycle</td>\n",
       "      <td></td>\n",
       "    </tr>\n",
       "    <tr>\n",
       "      <th>4</th>\n",
       "      <td>5</td>\n",
       "      <td>vehicle</td>\n",
       "      <td>airplane</td>\n",
       "      <td></td>\n",
       "    </tr>\n",
       "    <tr>\n",
       "      <th>...</th>\n",
       "      <td>...</td>\n",
       "      <td>...</td>\n",
       "      <td>...</td>\n",
       "      <td>...</td>\n",
       "    </tr>\n",
       "    <tr>\n",
       "      <th>75</th>\n",
       "      <td>86</td>\n",
       "      <td>indoor</td>\n",
       "      <td>vase</td>\n",
       "      <td></td>\n",
       "    </tr>\n",
       "    <tr>\n",
       "      <th>76</th>\n",
       "      <td>87</td>\n",
       "      <td>indoor</td>\n",
       "      <td>scissors</td>\n",
       "      <td></td>\n",
       "    </tr>\n",
       "    <tr>\n",
       "      <th>77</th>\n",
       "      <td>88</td>\n",
       "      <td>indoor</td>\n",
       "      <td>teddy bear</td>\n",
       "      <td></td>\n",
       "    </tr>\n",
       "    <tr>\n",
       "      <th>78</th>\n",
       "      <td>89</td>\n",
       "      <td>indoor</td>\n",
       "      <td>hair drier</td>\n",
       "      <td></td>\n",
       "    </tr>\n",
       "    <tr>\n",
       "      <th>79</th>\n",
       "      <td>90</td>\n",
       "      <td>indoor</td>\n",
       "      <td>toothbrush</td>\n",
       "      <td></td>\n",
       "    </tr>\n",
       "  </tbody>\n",
       "</table>\n",
       "<p>80 rows × 4 columns</p>\n",
       "</div>"
      ],
      "text/plain": [
       "    ID supercategory        name aux\n",
       "0    1        person      person    \n",
       "1    2       vehicle     bicycle    \n",
       "2    3       vehicle         car    \n",
       "3    4       vehicle  motorcycle    \n",
       "4    5       vehicle    airplane    \n",
       "..  ..           ...         ...  ..\n",
       "75  86        indoor        vase    \n",
       "76  87        indoor    scissors    \n",
       "77  88        indoor  teddy bear    \n",
       "78  89        indoor  hair drier    \n",
       "79  90        indoor  toothbrush    \n",
       "\n",
       "[80 rows x 4 columns]"
      ]
     },
     "execution_count": 7,
     "metadata": {},
     "output_type": "execute_result"
    }
   ],
   "source": [
    "myDB.get_all_categories()"
   ]
  },
  {
   "cell_type": "markdown",
   "metadata": {},
   "source": [
    "## Пример запроса к базе - получаем аннотации для двух категорий - кошки и собаки"
   ]
  },
  {
   "cell_type": "code",
   "execution_count": 8,
   "metadata": {},
   "outputs": [
    {
     "name": "stdout",
     "output_type": "stream",
     "text": [
      "Train shape: (21165, 7)  test shape: (7056, 7) validation shape (7055, 7)\n"
     ]
    },
    {
     "data": {
      "text/plain": [
       "(              file_name                                           coco_url  \\\n",
       " 0             cat.0.jpg                                                      \n",
       " 1             cat.1.jpg                                                      \n",
       " 2            cat.10.jpg                                                      \n",
       " 3           cat.100.jpg                                                      \n",
       " 4          cat.1000.jpg                                                      \n",
       " ...                 ...                                                ...   \n",
       " 35271  000000315555.jpg  http://images.cocodataset.org/train2017/000000...   \n",
       " 35272  000000113762.jpg  http://images.cocodataset.org/train2017/000000...   \n",
       " 35273  000000244933.jpg  http://images.cocodataset.org/train2017/000000...   \n",
       " 35274  000000092869.jpg  http://images.cocodataset.org/train2017/000000...   \n",
       " 35275  000000157804.jpg  http://images.cocodataset.org/train2017/000000...   \n",
       " \n",
       "        category_id                 bbox  \\\n",
       " 0               17                        \n",
       " 1               17                        \n",
       " 2               17                        \n",
       " 3               17                        \n",
       " 4               17                        \n",
       " ...            ...                  ...   \n",
       " 35271           18  [330, 178, 102, 12]   \n",
       " 35272           17   [143, 54, 155, 82]   \n",
       " 35273           17   [0, 428, 108, 105]   \n",
       " 35274           18  [259, 173, 380, 55]   \n",
       " 35275           18   [359, 243, 33, 23]   \n",
       " \n",
       "                                             segmentation  width  height  \n",
       " 0                                                           500     374  \n",
       " 1                                                           300     280  \n",
       " 2                                                           489     499  \n",
       " 3                                                           403     499  \n",
       " 4                                                           150     149  \n",
       " ...                                                  ...    ...     ...  \n",
       " 35271  {\"counts\": [141088, 1, 427, 1, 43136, 2, 88625...    640     427  \n",
       " 35272  {\"counts\": [29659, 6, 200, 8, 198, 10, 196, 12...    375     207  \n",
       " 35273  {\"counts\": [515, 8, 553, 12, 1, 2, 2, 5, 1, 5,...    640     640  \n",
       " 35274  {\"counts\": [110769, 6, 420, 11, 415, 17, 409, ...    640     427  \n",
       " 35275  {\"counts\": [134881, 7, 367, 9, 365, 11, 364, 1...    550     375  \n",
       " \n",
       " [35276 rows x 7 columns],\n",
       " {'train': 'train.csv', 'test': 'test.csv', 'validate': 'validate.csv'},\n",
       " 453.4854008390974,\n",
       " 393.82469667762786)"
      ]
     },
     "execution_count": 8,
     "metadata": {},
     "output_type": "execute_result"
    }
   ],
   "source": [
    "myDB.load_specific_categories_annotations(['cat','dog'])"
   ]
  },
  {
   "cell_type": "markdown",
   "metadata": {},
   "source": [
    "## Пример запроса к базе - получаем список всех подгруженных датасетов"
   ]
  },
  {
   "cell_type": "code",
   "execution_count": 9,
   "metadata": {},
   "outputs": [
    {
     "data": {
      "text/html": [
       "<div>\n",
       "<style scoped>\n",
       "    .dataframe tbody tr th:only-of-type {\n",
       "        vertical-align: middle;\n",
       "    }\n",
       "\n",
       "    .dataframe tbody tr th {\n",
       "        vertical-align: top;\n",
       "    }\n",
       "\n",
       "    .dataframe thead th {\n",
       "        text-align: right;\n",
       "    }\n",
       "</style>\n",
       "<table border=\"1\" class=\"dataframe\">\n",
       "  <thead>\n",
       "    <tr style=\"text-align: right;\">\n",
       "      <th></th>\n",
       "      <th>ID</th>\n",
       "      <th>description</th>\n",
       "      <th>url</th>\n",
       "      <th>version</th>\n",
       "      <th>year</th>\n",
       "      <th>contributor</th>\n",
       "      <th>date_created</th>\n",
       "      <th>aux</th>\n",
       "    </tr>\n",
       "  </thead>\n",
       "  <tbody>\n",
       "    <tr>\n",
       "      <th>0</th>\n",
       "      <td>1</td>\n",
       "      <td>Dogs vs Cats</td>\n",
       "      <td>https://www.kaggle.com/c/dogs-vs-cats</td>\n",
       "      <td>1.0</td>\n",
       "      <td>2013</td>\n",
       "      <td>Asirra</td>\n",
       "      <td>2013/09/25</td>\n",
       "      <td></td>\n",
       "    </tr>\n",
       "    <tr>\n",
       "      <th>1</th>\n",
       "      <td>2</td>\n",
       "      <td>COCO 2017 Dataset</td>\n",
       "      <td>http://cocodataset.org</td>\n",
       "      <td>1.0</td>\n",
       "      <td>2017</td>\n",
       "      <td>COCO Consortium</td>\n",
       "      <td>2017/09/01</td>\n",
       "      <td></td>\n",
       "    </tr>\n",
       "  </tbody>\n",
       "</table>\n",
       "</div>"
      ],
      "text/plain": [
       "   ID        description                                    url version  year  \\\n",
       "0   1       Dogs vs Cats  https://www.kaggle.com/c/dogs-vs-cats     1.0  2013   \n",
       "1   2  COCO 2017 Dataset                 http://cocodataset.org     1.0  2017   \n",
       "\n",
       "       contributor date_created aux  \n",
       "0          Asirra    2013/09/25      \n",
       "1  COCO Consortium   2017/09/01      "
      ]
     },
     "execution_count": 9,
     "metadata": {},
     "output_type": "execute_result"
    }
   ],
   "source": [
    "myDB.get_all_datasets()"
   ]
  },
  {
   "cell_type": "markdown",
   "metadata": {},
   "source": [
    "## Пример запроса к базе - подгружаем аннотации из определенных датасетов (по ID)"
   ]
  },
  {
   "cell_type": "code",
   "execution_count": 10,
   "metadata": {},
   "outputs": [
    {
     "data": {
      "text/html": [
       "<div>\n",
       "<style scoped>\n",
       "    .dataframe tbody tr th:only-of-type {\n",
       "        vertical-align: middle;\n",
       "    }\n",
       "\n",
       "    .dataframe tbody tr th {\n",
       "        vertical-align: top;\n",
       "    }\n",
       "\n",
       "    .dataframe thead th {\n",
       "        text-align: right;\n",
       "    }\n",
       "</style>\n",
       "<table border=\"1\" class=\"dataframe\">\n",
       "  <thead>\n",
       "    <tr style=\"text-align: right;\">\n",
       "      <th></th>\n",
       "      <th>file_name</th>\n",
       "      <th>category_id</th>\n",
       "      <th>bbox</th>\n",
       "      <th>segmentation</th>\n",
       "    </tr>\n",
       "  </thead>\n",
       "  <tbody>\n",
       "    <tr>\n",
       "      <th>0</th>\n",
       "      <td>cat.0.jpg</td>\n",
       "      <td>17</td>\n",
       "      <td></td>\n",
       "      <td></td>\n",
       "    </tr>\n",
       "    <tr>\n",
       "      <th>1</th>\n",
       "      <td>cat.1.jpg</td>\n",
       "      <td>17</td>\n",
       "      <td></td>\n",
       "      <td></td>\n",
       "    </tr>\n",
       "    <tr>\n",
       "      <th>2</th>\n",
       "      <td>cat.10.jpg</td>\n",
       "      <td>17</td>\n",
       "      <td></td>\n",
       "      <td></td>\n",
       "    </tr>\n",
       "    <tr>\n",
       "      <th>3</th>\n",
       "      <td>cat.100.jpg</td>\n",
       "      <td>17</td>\n",
       "      <td></td>\n",
       "      <td></td>\n",
       "    </tr>\n",
       "    <tr>\n",
       "      <th>4</th>\n",
       "      <td>cat.1000.jpg</td>\n",
       "      <td>17</td>\n",
       "      <td></td>\n",
       "      <td></td>\n",
       "    </tr>\n",
       "    <tr>\n",
       "      <th>...</th>\n",
       "      <td>...</td>\n",
       "      <td>...</td>\n",
       "      <td>...</td>\n",
       "      <td>...</td>\n",
       "    </tr>\n",
       "    <tr>\n",
       "      <th>24995</th>\n",
       "      <td>dog.9995.jpg</td>\n",
       "      <td>18</td>\n",
       "      <td></td>\n",
       "      <td></td>\n",
       "    </tr>\n",
       "    <tr>\n",
       "      <th>24996</th>\n",
       "      <td>dog.9996.jpg</td>\n",
       "      <td>18</td>\n",
       "      <td></td>\n",
       "      <td></td>\n",
       "    </tr>\n",
       "    <tr>\n",
       "      <th>24997</th>\n",
       "      <td>dog.9997.jpg</td>\n",
       "      <td>18</td>\n",
       "      <td></td>\n",
       "      <td></td>\n",
       "    </tr>\n",
       "    <tr>\n",
       "      <th>24998</th>\n",
       "      <td>dog.9998.jpg</td>\n",
       "      <td>18</td>\n",
       "      <td></td>\n",
       "      <td></td>\n",
       "    </tr>\n",
       "    <tr>\n",
       "      <th>24999</th>\n",
       "      <td>dog.9999.jpg</td>\n",
       "      <td>18</td>\n",
       "      <td></td>\n",
       "      <td></td>\n",
       "    </tr>\n",
       "  </tbody>\n",
       "</table>\n",
       "<p>25000 rows × 4 columns</p>\n",
       "</div>"
      ],
      "text/plain": [
       "          file_name  category_id bbox segmentation\n",
       "0         cat.0.jpg           17                  \n",
       "1         cat.1.jpg           17                  \n",
       "2        cat.10.jpg           17                  \n",
       "3       cat.100.jpg           17                  \n",
       "4      cat.1000.jpg           17                  \n",
       "...             ...          ...  ...          ...\n",
       "24995  dog.9995.jpg           18                  \n",
       "24996  dog.9996.jpg           18                  \n",
       "24997  dog.9997.jpg           18                  \n",
       "24998  dog.9998.jpg           18                  \n",
       "24999  dog.9999.jpg           18                  \n",
       "\n",
       "[25000 rows x 4 columns]"
      ]
     },
     "execution_count": 10,
     "metadata": {},
     "output_type": "execute_result"
    }
   ],
   "source": [
    "myDB.load_specific_datasets_annotations([1]) #ID 1 как видно выше - это база Kaggle"
   ]
  },
  {
   "cell_type": "markdown",
   "metadata": {},
   "source": [
    "# Пример запроса к базе - получить ID категорий по названию и наоборот"
   ]
  },
  {
   "cell_type": "code",
   "execution_count": 5,
   "metadata": {},
   "outputs": [
    {
     "name": "stdout",
     "output_type": "stream",
     "text": [
      "cat_IDs: [17, 18, -1, -1, 16, 1]\n",
      "cat_names: ['cat', 'dog', '', '', 'bird', 'person']\n"
     ]
    }
   ],
   "source": [
    "cat_IDs = myDB.get_cat_IDs_by_names([\"cat\",\"dog\",\"fish\",\"house\",\"bird\",\"person\"])\n",
    "print(\"cat_IDs:\",cat_IDs)\n",
    "cat_names = myDB.get_cat_names_by_IDs(cat_IDs)\n",
    "print(\"cat_names:\",cat_names)"
   ]
  },
  {
   "cell_type": "code",
   "execution_count": null,
   "metadata": {},
   "outputs": [],
   "source": []
  }
 ],
 "metadata": {
  "kernelspec": {
   "display_name": "Python 3",
   "language": "python",
   "name": "python3"
  },
  "language_info": {
   "codemirror_mode": {
    "name": "ipython",
    "version": 3
   },
   "file_extension": ".py",
   "mimetype": "text/x-python",
   "name": "python",
   "nbconvert_exporter": "python",
   "pygments_lexer": "ipython3",
   "version": "3.7.6"
  }
 },
 "nbformat": 4,
 "nbformat_minor": 4
}
