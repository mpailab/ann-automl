{
 "cells": [
  {
   "cell_type": "code",
   "execution_count": 1,
   "metadata": {},
   "outputs": [],
   "source": [
    "import sqlalchemy\n",
    "import db_module\n",
    "\n",
    "create_new_test_db = True\n",
    "import os\n",
    "if os.path.exists(\"tests.sqlite\"): #Если файл уже есть, заморачиваться с перезаполнением не будем\n",
    "    create_new_test_db = False"
   ]
  },
  {
   "cell_type": "markdown",
   "metadata": {},
   "source": [
    "## Создаем тестовую БД методом класса dbModule"
   ]
  },
  {
   "cell_type": "code",
   "execution_count": 2,
   "metadata": {},
   "outputs": [],
   "source": [
    "myDB = db_module.dbModule(dbstring = 'sqlite:///tests.sqlite')\n",
    "if create_new_test_db:\n",
    "    myDB.create_sqlite_file()"
   ]
  },
  {
   "cell_type": "markdown",
   "metadata": {},
   "source": [
    "## Напечатаем названия таблиц в БД для проверки"
   ]
  },
  {
   "cell_type": "code",
   "execution_count": 3,
   "metadata": {},
   "outputs": [
    {
     "data": {
      "text/plain": [
       "dict_keys(['dataset', 'category', 'license', 'image', 'annotation', 'metric', 'metricToModel', 'categoryToGlobalRecord', 'model'])"
      ]
     },
     "execution_count": 3,
     "metadata": {},
     "output_type": "execute_result"
    }
   ],
   "source": [
    "db_module.Base.metadata.tables.keys()"
   ]
  },
  {
   "cell_type": "markdown",
   "metadata": {},
   "source": [
    "## Заполним базу аннотациями из COCO -- это необходимо делать один раз"
   ]
  },
  {
   "cell_type": "code",
   "execution_count": 4,
   "metadata": {},
   "outputs": [
    {
     "name": "stdout",
     "output_type": "stream",
     "text": [
      "DB filled in 0.0 seconds\n"
     ]
    }
   ],
   "source": [
    "dataDir=r\"D:\\Work\\AutoML\\annotations_trainval2017\"\n",
    "dataType='train2017'\n",
    "annFile=r\"{}\\annotations\\instances_{}.json\".format(dataDir,dataType)\n",
    "\n",
    "\n",
    "import time\n",
    "\n",
    "begin = time.time()\n",
    "if create_new_test_db:\n",
    "    myDB.fill_coco(annFile, firstTime = True) #Надо указать True чтобы подгрузить категории \n",
    "end = time.time()\n",
    "\n",
    "print('DB filled in', end-begin, 'seconds')"
   ]
  },
  {
   "cell_type": "code",
   "execution_count": 5,
   "metadata": {},
   "outputs": [],
   "source": [
    "myDB.add_global_history_record(task_type = \"detection\", categories = ['cat','mouse'], model_address = './TrainedNN/New_NetworkFirst', metrics = {'accuracy':0.91})\n",
    "myDB.add_global_history_record(task_type = \"classification\", categories = ['cat','dog'], model_address = './TrainedNN/New_NetworkPP', metrics = {'accuracy':0.91})\n",
    "myDB.add_global_history_record(task_type = \"classification\", categories = ['cat','dog'], model_address = './TrainedNN/New_NetworkFirst', metrics = {'accuracy':0.80})\n",
    "myDB.add_global_history_record(task_type = \"classification\", categories = ['cat','mouse'], model_address = './TrainedNN/New_NetworkPP', metrics = {'accuracy':0.93})\n",
    "myDB.add_global_history_record(task_type = \"classification\", categories = ['cat','mouse'], model_address = './TrainedNN/New_NetworkFirst', metrics = {'loss':0.93})"
   ]
  },
  {
   "cell_type": "code",
   "execution_count": null,
   "metadata": {},
   "outputs": [],
   "source": []
  },
  {
   "cell_type": "code",
   "execution_count": null,
   "metadata": {},
   "outputs": [],
   "source": []
  },
  {
   "cell_type": "code",
   "execution_count": null,
   "metadata": {},
   "outputs": [],
   "source": []
  }
 ],
 "metadata": {
  "kernelspec": {
   "display_name": "Python 3",
   "language": "python",
   "name": "python3"
  },
  "language_info": {
   "codemirror_mode": {
    "name": "ipython",
    "version": 3
   },
   "file_extension": ".py",
   "mimetype": "text/x-python",
   "name": "python",
   "nbconvert_exporter": "python",
   "pygments_lexer": "ipython3",
   "version": "3.7.6"
  }
 },
 "nbformat": 4,
 "nbformat_minor": 4
}
