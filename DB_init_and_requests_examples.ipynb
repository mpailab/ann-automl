{
 "cells": [
  {
   "cell_type": "code",
   "execution_count": 1,
   "metadata": {},
   "outputs": [],
   "source": [
    "import sqlalchemy\n",
    "import db_module\n",
    "\n",
    "create_new_test_db = True\n",
    "import os\n",
    "if os.path.exists(\"tests.sqlite\"): #Если файл уже есть, заморачиваться с перезаполнением не будем\n",
    "    create_new_test_db = False"
   ]
  },
  {
   "cell_type": "markdown",
   "metadata": {},
   "source": [
    "## Создаем тестовую БД методом класса dbModule"
   ]
  },
  {
   "cell_type": "code",
   "execution_count": 2,
   "metadata": {},
   "outputs": [],
   "source": [
    "myDB = db_module.dbModule(dbstring = 'sqlite:///tests.sqlite')\n",
    "if create_new_test_db:\n",
    "    myDB.create_sqlite_file()"
   ]
  },
  {
   "cell_type": "markdown",
   "metadata": {},
   "source": [
    "## Напечатаем названия таблиц в БД для проверки"
   ]
  },
  {
   "cell_type": "code",
   "execution_count": 3,
   "metadata": {},
   "outputs": [
    {
     "data": {
      "text/plain": [
       "dict_keys(['image', 'dataset', 'category', 'license', 'annotation', 'trainResult', 'categoryToModel', 'model'])"
      ]
     },
     "execution_count": 3,
     "metadata": {},
     "output_type": "execute_result"
    }
   ],
   "source": [
    "db_module.Base.metadata.tables.keys()"
   ]
  },
  {
   "cell_type": "markdown",
   "metadata": {},
   "source": [
    "## Заполним базу аннотациями из COCO -- это необходимо делать один раз"
   ]
  },
  {
   "cell_type": "code",
   "execution_count": null,
   "outputs": [],
   "source": [
    "dataDir=r\"D:\\Work\\AutoML\\annotations_trainval2017\"\n",
    "dataType='train2017'\n",
    "annFile=r\"{}\\annotations\\instances_{}.json\".format(dataDir,dataType)\n",
    "\n",
    "\n",
    "import time\n",
    "\n",
    "begin = time.time()\n",
    "if create_new_test_db:\n",
    "    myDB.fill_cats_dogs(file_prefix = './datasets/Kaggle/') #Загружаем базу Kaggle - кошки и собаки\n",
    "    myDB.fill_coco(annFile, file_prefix = './datasets/COCO2017/', firstTime = True) #Надо указать True чтобы подгрузить категории \n",
    "end = time.time()\n",
    "\n",
    "print('DB filled in', end-begin, 'seconds')"
   ],
   "metadata": {
    "collapsed": false,
    "pycharm": {
     "name": "#%%\n"
    }
   }
  },
  {
   "cell_type": "markdown",
   "source": [
    "## Добавляем информацию о моделях в БД - эта информация может в дальнейшем использоваться для рекомендаций при подготовке новых моделей"
   ],
   "metadata": {
    "collapsed": false,
    "pycharm": {
     "name": "#%% md\n"
    }
   }
  },
  {
   "cell_type": "code",
   "execution_count": null,
   "outputs": [],
   "source": [
    "myDB.add_model_record(task_type = \"detection\", categories = ['cat','mouse'], model_address = './TrainedNN/New_NetworkFirst', metrics = {'accuracy':0.91}, history_address = '')\n",
    "myDB.add_model_record(task_type = \"classification\", categories = ['cat','dog'], model_address = './TrainedNN/New_NetworkPP', metrics = {'accuracy':0.91}, history_address = '')\n",
    "myDB.add_model_record(task_type = \"classification\", categories = ['cat','dog'], model_address = './TrainedNN/New_NetworkFirst2', metrics = {'accuracy':0.80}, history_address = '')\n",
    "myDB.add_model_record(task_type = \"classification\", categories = ['cat','mouse'], model_address = './TrainedNN/New_NetworkPP2', metrics = {'accuracy':0.93}, history_address = '')\n",
    "myDB.add_model_record(task_type = \"classification\", categories = ['cat','mouse'], model_address = './TrainedNN/New_NetworkFirst3', metrics = {'loss':0.93}, history_address = '')"
   ],
   "metadata": {
    "collapsed": false,
    "pycharm": {
     "name": "#%%\n"
    }
   }
  },
  {
   "cell_type": "markdown",
   "source": [
    "## Пример запроса к базе - ищем модель, удовлетворяющую критериям: \"минимальная точность - 0.92, категории, с которыми работает модель - кошки, мыши\". Поиск идет на включение категорий, без точного совпадения"
   ],
   "metadata": {
    "collapsed": false,
    "pycharm": {
     "name": "#%% md\n"
    }
   }
  },
  {
   "cell_type": "code",
   "execution_count": null,
   "outputs": [],
   "source": [
    "myDB.get_models_by_filter({'min_metrics':{'accuracy':0.91}, 'categories':['cat','mouse']})"
   ],
   "metadata": {
    "collapsed": false,
    "pycharm": {
     "name": "#%%\n"
    }
   }
  },
  {
   "cell_type": "markdown",
   "source": [
    "# Взаимодействие с добавленными результатами обучения - попытка дубля, модификация, удаление "
   ],
   "metadata": {
    "collapsed": false,
    "pycharm": {
     "name": "#%% md\n"
    }
   }
  },
  {
   "cell_type": "code",
   "execution_count": null,
   "outputs": [],
   "source": [
    "#При попытке добавить информацию о существующей модели второй раз пользователь получает ошибку\n",
    "#Модель однозначно идентифицируется полем model_address. Изменить категории для данной модели и тип задачи - пока нельзя (может быть в будущем подход будет пересмотрен)\n",
    "myDB.add_model_record(task_type = \"classification\", categories = ['cat','mouse'], model_address = './TrainedNN/New_NetworkFirst3', metrics = {'loss':0.94}, history_address = '')"
   ],
   "metadata": {
    "collapsed": false,
    "pycharm": {
     "name": "#%%\n"
    }
   }
  },
  {
   "cell_type": "code",
   "execution_count": null,
   "outputs": [],
   "source": [
    "#Однако поправить результат обучения вполне можно, также как и добавить новую метрику\n",
    "myDB.update_train_result_record(model_address = './TrainedNN/New_NetworkPP2', metric_name = 'accuracy', metric_value = 0.97, history_address = '')"
   ],
   "metadata": {
    "collapsed": false,
    "pycharm": {
     "name": "#%%\n"
    }
   }
  },
  {
   "cell_type": "code",
   "execution_count": null,
   "outputs": [],
   "source": [
    "#Проверяем результат обновления\n",
    "myDB.get_models_by_filter({'min_metrics':{'accuracy':0.1}, 'categories':['cat','mouse']})"
   ],
   "metadata": {
    "collapsed": false,
    "pycharm": {
     "name": "#%%\n"
    }
   }
  },
  {
   "cell_type": "code",
   "execution_count": null,
   "outputs": [],
   "source": [
    "#Можно удалить результат обучения\n",
    "myDB.delete_train_result_record(model_address = './TrainedNN/New_NetworkPP2', metric_name = 'accuracy')"
   ],
   "metadata": {
    "collapsed": false,
    "pycharm": {
     "name": "#%%\n"
    }
   }
  },
  {
   "cell_type": "code",
   "execution_count": null,
   "outputs": [],
   "source": [
    "#Проверяем результат удаления\n",
    "myDB.get_models_by_filter({'min_metrics':{'accuracy':0.9}, 'categories':['cat','mouse']})"
   ],
   "metadata": {
    "collapsed": false,
    "pycharm": {
     "name": "#%%\n"
    }
   }
  },
  {
   "cell_type": "code",
   "execution_count": null,
   "outputs": [],
   "source": [
    "#Выводим список вообще всех моделей:\n",
    "myDB.get_models_by_filter({})"
   ],
   "metadata": {
    "collapsed": false,
    "pycharm": {
     "name": "#%%\n"
    }
   }
  },
  {
   "cell_type": "code",
   "execution_count": null,
   "outputs": [],
   "source": [
    "#Можно запросить модели с фильтрами по ID категорий, а не по названиям:\n",
    "myDB.get_models_by_filter({'categories_ids':[17,18]})"
   ],
   "metadata": {
    "collapsed": false,
    "pycharm": {
     "name": "#%%\n"
    }
   }
  },
  {
   "cell_type": "markdown",
   "source": [
    "## Пример запроса к базе - получаем перечень всех доступных категорий"
   ],
   "metadata": {
    "collapsed": false,
    "pycharm": {
     "name": "#%% md\n"
    }
   }
  },
  {
   "cell_type": "code",
   "execution_count": null,
   "outputs": [],
   "source": [
    "myDB.get_all_categories()"
   ],
   "metadata": {
    "collapsed": false,
    "pycharm": {
     "name": "#%%\n"
    }
   }
  },
  {
   "cell_type": "markdown",
   "source": [
    "## Пример запроса к базе - получаем аннотации для двух категорий - кошки и собаки"
   ],
   "metadata": {
    "collapsed": false,
    "pycharm": {
     "name": "#%% md\n"
    }
   }
  },
  {
   "cell_type": "code",
   "execution_count": null,
   "outputs": [],
   "source": [
    "myDB.load_specific_categories_annotations(['cat','dog'], normalizeCats = True, splitPoints = [0.7, 0.85], curExperimentFolder = './', crop_bbox = False, cropped_dir = './crops')"
   ],
   "metadata": {
    "collapsed": false,
    "pycharm": {
     "name": "#%%\n"
    }
   }
  },
  {
   "cell_type": "markdown",
   "source": [
    "## Пример запроса к базе - получаем список всех подгруженных датасетов"
   ],
   "metadata": {
    "collapsed": false,
    "pycharm": {
     "name": "#%% md\n"
    }
   }
  },
  {
   "cell_type": "code",
   "execution_count": null,
   "outputs": [],
   "source": [
    "myDB.get_all_datasets()"
   ],
   "metadata": {
    "collapsed": false,
    "pycharm": {
     "name": "#%%\n"
    }
   }
  },
  {
   "cell_type": "markdown",
   "source": [
    "## Пример запроса к базе - подгружаем аннотации из определенных датасетов (по ID)"
   ],
   "metadata": {
    "collapsed": false,
    "pycharm": {
     "name": "#%% md\n"
    }
   }
  },
  {
   "cell_type": "code",
   "execution_count": null,
   "outputs": [],
   "source": [
    "myDB.load_specific_datasets_annotations([1]) #ID 1 как видно выше - это база Kaggle"
   ],
   "metadata": {
    "collapsed": false,
    "pycharm": {
     "name": "#%%\n"
    }
   }
  },
  {
   "cell_type": "markdown",
   "source": [
    "# Пример запроса к базе - получить ID категорий по названию и наоборот"
   ],
   "metadata": {
    "collapsed": false,
    "pycharm": {
     "name": "#%% md\n"
    }
   }
  },
  {
   "cell_type": "code",
   "execution_count": null,
   "outputs": [],
   "source": [
    "cat_IDs = myDB.get_cat_IDs_by_names([\"cat\",\"dog\",\"fish\",\"house\",\"bird\",\"person\"])\n",
    "print(\"cat_IDs:\",cat_IDs)\n",
    "cat_names = myDB.get_cat_names_by_IDs(cat_IDs)\n",
    "print(\"cat_names:\",cat_names)"
   ],
   "metadata": {
    "collapsed": false,
    "pycharm": {
     "name": "#%%\n"
    }
   }
  },
  {
   "cell_type": "markdown",
   "metadata": {},
   "source": [
    "## Пример запроса к базе - получаем перечень всех доступных категорий"
   ]
  },
  {
   "cell_type": "code",
   "execution_count": 14,
   "metadata": {},
   "outputs": [
    {
     "data": {
      "text/html": [
       "<div>\n",
       "<style scoped>\n",
       "    .dataframe tbody tr th:only-of-type {\n",
       "        vertical-align: middle;\n",
       "    }\n",
       "\n",
       "    .dataframe tbody tr th {\n",
       "        vertical-align: top;\n",
       "    }\n",
       "\n",
       "    .dataframe thead th {\n",
       "        text-align: right;\n",
       "    }\n",
       "</style>\n",
       "<table border=\"1\" class=\"dataframe\">\n",
       "  <thead>\n",
       "    <tr style=\"text-align: right;\">\n",
       "      <th></th>\n",
       "      <th>ID</th>\n",
       "      <th>supercategory</th>\n",
       "      <th>name</th>\n",
       "      <th>aux</th>\n",
       "    </tr>\n",
       "  </thead>\n",
       "  <tbody>\n",
       "    <tr>\n",
       "      <th>0</th>\n",
       "      <td>1</td>\n",
       "      <td>person</td>\n",
       "      <td>person</td>\n",
       "      <td></td>\n",
       "    </tr>\n",
       "    <tr>\n",
       "      <th>1</th>\n",
       "      <td>2</td>\n",
       "      <td>vehicle</td>\n",
       "      <td>bicycle</td>\n",
       "      <td></td>\n",
       "    </tr>\n",
       "    <tr>\n",
       "      <th>2</th>\n",
       "      <td>3</td>\n",
       "      <td>vehicle</td>\n",
       "      <td>car</td>\n",
       "      <td></td>\n",
       "    </tr>\n",
       "    <tr>\n",
       "      <th>3</th>\n",
       "      <td>4</td>\n",
       "      <td>vehicle</td>\n",
       "      <td>motorcycle</td>\n",
       "      <td></td>\n",
       "    </tr>\n",
       "    <tr>\n",
       "      <th>4</th>\n",
       "      <td>5</td>\n",
       "      <td>vehicle</td>\n",
       "      <td>airplane</td>\n",
       "      <td></td>\n",
       "    </tr>\n",
       "    <tr>\n",
       "      <th>...</th>\n",
       "      <td>...</td>\n",
       "      <td>...</td>\n",
       "      <td>...</td>\n",
       "      <td>...</td>\n",
       "    </tr>\n",
       "    <tr>\n",
       "      <th>75</th>\n",
       "      <td>86</td>\n",
       "      <td>indoor</td>\n",
       "      <td>vase</td>\n",
       "      <td></td>\n",
       "    </tr>\n",
       "    <tr>\n",
       "      <th>76</th>\n",
       "      <td>87</td>\n",
       "      <td>indoor</td>\n",
       "      <td>scissors</td>\n",
       "      <td></td>\n",
       "    </tr>\n",
       "    <tr>\n",
       "      <th>77</th>\n",
       "      <td>88</td>\n",
       "      <td>indoor</td>\n",
       "      <td>teddy bear</td>\n",
       "      <td></td>\n",
       "    </tr>\n",
       "    <tr>\n",
       "      <th>78</th>\n",
       "      <td>89</td>\n",
       "      <td>indoor</td>\n",
       "      <td>hair drier</td>\n",
       "      <td></td>\n",
       "    </tr>\n",
       "    <tr>\n",
       "      <th>79</th>\n",
       "      <td>90</td>\n",
       "      <td>indoor</td>\n",
       "      <td>toothbrush</td>\n",
       "      <td></td>\n",
       "    </tr>\n",
       "  </tbody>\n",
       "</table>\n",
       "<p>80 rows × 4 columns</p>\n",
       "</div>"
      ],
      "text/plain": [
       "    ID supercategory        name aux\n",
       "0    1        person      person    \n",
       "1    2       vehicle     bicycle    \n",
       "2    3       vehicle         car    \n",
       "3    4       vehicle  motorcycle    \n",
       "4    5       vehicle    airplane    \n",
       "..  ..           ...         ...  ..\n",
       "75  86        indoor        vase    \n",
       "76  87        indoor    scissors    \n",
       "77  88        indoor  teddy bear    \n",
       "78  89        indoor  hair drier    \n",
       "79  90        indoor  toothbrush    \n",
       "\n",
       "[80 rows x 4 columns]"
      ]
     },
     "execution_count": 14,
     "metadata": {},
     "output_type": "execute_result"
    }
   ],
   "source": [
    "myDB.get_all_categories()"
   ]
  },
  {
   "cell_type": "markdown",
   "metadata": {},
   "source": [
    "## Пример запроса к базе - получаем аннотации для двух категорий - кошки и собаки"
   ]
  },
  {
   "cell_type": "code",
   "execution_count": 15,
   "metadata": {},
   "outputs": [
    {
     "name": "stdout",
     "output_type": "stream",
     "text": [
      "Train shape: (24693, 2)  test shape: (5292, 2) validation shape (5291, 2)\n"
     ]
    },
    {
     "data": {
      "text/plain": [
       "(                                     images target\n",
       " 0               ./datasets/Kaggle/cat.0.jpg      0\n",
       " 1               ./datasets/Kaggle/cat.1.jpg      0\n",
       " 2              ./datasets/Kaggle/cat.10.jpg      0\n",
       " 3             ./datasets/Kaggle/cat.100.jpg      0\n",
       " 4            ./datasets/Kaggle/cat.1000.jpg      0\n",
       " ...                                     ...    ...\n",
       " 35271  ./datasets/COCO2017/000000315555.jpg      1\n",
       " 35272  ./datasets/COCO2017/000000113762.jpg      0\n",
       " 35273  ./datasets/COCO2017/000000244933.jpg      0\n",
       " 35274  ./datasets/COCO2017/000000092869.jpg      1\n",
       " 35275  ./datasets/COCO2017/000000157804.jpg      1\n",
       " \n",
       " [35276 rows x 2 columns],\n",
       " {'train': './train.csv', 'test': './test.csv', 'validate': './validate.csv'},\n",
       " 453.4854008390974,\n",
       " 393.82469667762786)"
      ]
     },
     "execution_count": 15,
     "metadata": {},
     "output_type": "execute_result"
    }
   ],
   "source": [
    "myDB.load_specific_categories_annotations(['cat','dog'], normalizeCats = True, splitPoints = [0.7, 0.85], curExperimentFolder = './', crop_bbox = False, cropped_dir = './crops')"
   ]
  },
  {
   "cell_type": "markdown",
   "metadata": {},
   "source": [
    "## Пример запроса к базе - получаем список всех подгруженных датасетов"
   ]
  },
  {
   "cell_type": "code",
   "execution_count": 16,
   "metadata": {},
   "outputs": [
    {
     "data": {
      "text/html": [
       "<div>\n",
       "<style scoped>\n",
       "    .dataframe tbody tr th:only-of-type {\n",
       "        vertical-align: middle;\n",
       "    }\n",
       "\n",
       "    .dataframe tbody tr th {\n",
       "        vertical-align: top;\n",
       "    }\n",
       "\n",
       "    .dataframe thead th {\n",
       "        text-align: right;\n",
       "    }\n",
       "</style>\n",
       "<table border=\"1\" class=\"dataframe\">\n",
       "  <thead>\n",
       "    <tr style=\"text-align: right;\">\n",
       "      <th></th>\n",
       "      <th>ID</th>\n",
       "      <th>description</th>\n",
       "      <th>url</th>\n",
       "      <th>version</th>\n",
       "      <th>year</th>\n",
       "      <th>contributor</th>\n",
       "      <th>date_created</th>\n",
       "      <th>aux</th>\n",
       "    </tr>\n",
       "  </thead>\n",
       "  <tbody>\n",
       "    <tr>\n",
       "      <th>0</th>\n",
       "      <td>1</td>\n",
       "      <td>Dogs vs Cats</td>\n",
       "      <td>https://www.kaggle.com/c/dogs-vs-cats</td>\n",
       "      <td>1.0</td>\n",
       "      <td>2013</td>\n",
       "      <td>Asirra</td>\n",
       "      <td>2013/09/25</td>\n",
       "      <td></td>\n",
       "    </tr>\n",
       "    <tr>\n",
       "      <th>1</th>\n",
       "      <td>2</td>\n",
       "      <td>COCO 2017 Dataset</td>\n",
       "      <td>http://cocodataset.org</td>\n",
       "      <td>1.0</td>\n",
       "      <td>2017</td>\n",
       "      <td>COCO Consortium</td>\n",
       "      <td>2017/09/01</td>\n",
       "      <td></td>\n",
       "    </tr>\n",
       "  </tbody>\n",
       "</table>\n",
       "</div>"
      ],
      "text/plain": [
       "   ID        description                                    url version  year  \\\n",
       "0   1       Dogs vs Cats  https://www.kaggle.com/c/dogs-vs-cats     1.0  2013   \n",
       "1   2  COCO 2017 Dataset                 http://cocodataset.org     1.0  2017   \n",
       "\n",
       "       contributor date_created aux  \n",
       "0          Asirra    2013/09/25      \n",
       "1  COCO Consortium   2017/09/01      "
      ]
     },
     "execution_count": 16,
     "metadata": {},
     "output_type": "execute_result"
    }
   ],
   "source": [
    "myDB.get_all_datasets()"
   ]
  },
  {
   "cell_type": "markdown",
   "metadata": {},
   "source": [
    "## Пример запроса к базе - подгружаем аннотации из определенных датасетов (по ID)"
   ]
  },
  {
   "cell_type": "code",
   "execution_count": 17,
   "metadata": {},
   "outputs": [
    {
     "data": {
      "text/html": [
       "<div>\n",
       "<style scoped>\n",
       "    .dataframe tbody tr th:only-of-type {\n",
       "        vertical-align: middle;\n",
       "    }\n",
       "\n",
       "    .dataframe tbody tr th {\n",
       "        vertical-align: top;\n",
       "    }\n",
       "\n",
       "    .dataframe thead th {\n",
       "        text-align: right;\n",
       "    }\n",
       "</style>\n",
       "<table border=\"1\" class=\"dataframe\">\n",
       "  <thead>\n",
       "    <tr style=\"text-align: right;\">\n",
       "      <th></th>\n",
       "      <th>file_name</th>\n",
       "      <th>category_id</th>\n",
       "      <th>bbox</th>\n",
       "      <th>segmentation</th>\n",
       "    </tr>\n",
       "  </thead>\n",
       "  <tbody>\n",
       "    <tr>\n",
       "      <th>0</th>\n",
       "      <td>./datasets/Kaggle/cat.0.jpg</td>\n",
       "      <td>17</td>\n",
       "      <td></td>\n",
       "      <td></td>\n",
       "    </tr>\n",
       "    <tr>\n",
       "      <th>1</th>\n",
       "      <td>./datasets/Kaggle/cat.1.jpg</td>\n",
       "      <td>17</td>\n",
       "      <td></td>\n",
       "      <td></td>\n",
       "    </tr>\n",
       "    <tr>\n",
       "      <th>2</th>\n",
       "      <td>./datasets/Kaggle/cat.10.jpg</td>\n",
       "      <td>17</td>\n",
       "      <td></td>\n",
       "      <td></td>\n",
       "    </tr>\n",
       "    <tr>\n",
       "      <th>3</th>\n",
       "      <td>./datasets/Kaggle/cat.100.jpg</td>\n",
       "      <td>17</td>\n",
       "      <td></td>\n",
       "      <td></td>\n",
       "    </tr>\n",
       "    <tr>\n",
       "      <th>4</th>\n",
       "      <td>./datasets/Kaggle/cat.1000.jpg</td>\n",
       "      <td>17</td>\n",
       "      <td></td>\n",
       "      <td></td>\n",
       "    </tr>\n",
       "    <tr>\n",
       "      <th>...</th>\n",
       "      <td>...</td>\n",
       "      <td>...</td>\n",
       "      <td>...</td>\n",
       "      <td>...</td>\n",
       "    </tr>\n",
       "    <tr>\n",
       "      <th>24995</th>\n",
       "      <td>./datasets/Kaggle/dog.9995.jpg</td>\n",
       "      <td>18</td>\n",
       "      <td></td>\n",
       "      <td></td>\n",
       "    </tr>\n",
       "    <tr>\n",
       "      <th>24996</th>\n",
       "      <td>./datasets/Kaggle/dog.9996.jpg</td>\n",
       "      <td>18</td>\n",
       "      <td></td>\n",
       "      <td></td>\n",
       "    </tr>\n",
       "    <tr>\n",
       "      <th>24997</th>\n",
       "      <td>./datasets/Kaggle/dog.9997.jpg</td>\n",
       "      <td>18</td>\n",
       "      <td></td>\n",
       "      <td></td>\n",
       "    </tr>\n",
       "    <tr>\n",
       "      <th>24998</th>\n",
       "      <td>./datasets/Kaggle/dog.9998.jpg</td>\n",
       "      <td>18</td>\n",
       "      <td></td>\n",
       "      <td></td>\n",
       "    </tr>\n",
       "    <tr>\n",
       "      <th>24999</th>\n",
       "      <td>./datasets/Kaggle/dog.9999.jpg</td>\n",
       "      <td>18</td>\n",
       "      <td></td>\n",
       "      <td></td>\n",
       "    </tr>\n",
       "  </tbody>\n",
       "</table>\n",
       "<p>25000 rows × 4 columns</p>\n",
       "</div>"
      ],
      "text/plain": [
       "                            file_name  category_id bbox segmentation\n",
       "0         ./datasets/Kaggle/cat.0.jpg           17                  \n",
       "1         ./datasets/Kaggle/cat.1.jpg           17                  \n",
       "2        ./datasets/Kaggle/cat.10.jpg           17                  \n",
       "3       ./datasets/Kaggle/cat.100.jpg           17                  \n",
       "4      ./datasets/Kaggle/cat.1000.jpg           17                  \n",
       "...                               ...          ...  ...          ...\n",
       "24995  ./datasets/Kaggle/dog.9995.jpg           18                  \n",
       "24996  ./datasets/Kaggle/dog.9996.jpg           18                  \n",
       "24997  ./datasets/Kaggle/dog.9997.jpg           18                  \n",
       "24998  ./datasets/Kaggle/dog.9998.jpg           18                  \n",
       "24999  ./datasets/Kaggle/dog.9999.jpg           18                  \n",
       "\n",
       "[25000 rows x 4 columns]"
      ]
     },
     "execution_count": 17,
     "metadata": {},
     "output_type": "execute_result"
    }
   ],
   "source": [
    "myDB.load_specific_datasets_annotations([1]) #ID 1 как видно выше - это база Kaggle"
   ]
  },
  {
   "cell_type": "markdown",
   "metadata": {},
   "source": [
    "# Пример запроса к базе - получить ID категорий по названию и наоборот"
   ]
  },
  {
   "cell_type": "code",
   "execution_count": 18,
   "metadata": {},
   "outputs": [
    {
     "name": "stdout",
     "output_type": "stream",
     "text": [
      "cat_IDs: [17, 18, -1, -1, 16, 1]\n",
      "cat_names: ['cat', 'dog', '', '', 'bird', 'person']\n"
     ]
    }
   ],
   "source": [
    "cat_IDs = myDB.get_cat_IDs_by_names([\"cat\",\"dog\",\"fish\",\"house\",\"bird\",\"person\"])\n",
    "print(\"cat_IDs:\",cat_IDs)\n",
    "cat_names = myDB.get_cat_names_by_IDs(cat_IDs)\n",
    "print(\"cat_names:\",cat_names)"
   ]
  },
  {
   "cell_type": "code",
   "execution_count": null,
   "metadata": {},
   "outputs": [],
   "source": []
  },
  {
   "cell_type": "code",
   "execution_count": null,
   "metadata": {},
   "outputs": [],
   "source": []
  },
  {
   "cell_type": "code",
   "execution_count": null,
   "metadata": {},
   "outputs": [],
   "source": []
  },
  {
   "cell_type": "code",
   "execution_count": null,
   "metadata": {},
   "outputs": [],
   "source": []
  },
  {
   "cell_type": "code",
   "execution_count": null,
   "metadata": {},
   "outputs": [],
   "source": []
  },
  {
   "cell_type": "code",
   "execution_count": null,
   "metadata": {},
   "outputs": [],
   "source": []
  }
 ],
 "metadata": {
  "kernelspec": {
   "display_name": "Python 3",
   "language": "python",
   "name": "python3"
  },
  "language_info": {
   "codemirror_mode": {
    "name": "ipython",
    "version": 3
   },
   "file_extension": ".py",
   "mimetype": "text/x-python",
   "name": "python",
   "nbconvert_exporter": "python",
   "pygments_lexer": "ipython3",
   "version": "3.7.6"
  }
 },
 "nbformat": 4,
 "nbformat_minor": 4
}