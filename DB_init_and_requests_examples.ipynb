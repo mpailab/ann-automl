{
 "cells": [
  {
   "cell_type": "code",
   "execution_count": 1,
   "metadata": {},
   "outputs": [],
   "source": [
    "import sqlalchemy\n",
    "import db_module\n",
    "\n",
    "create_new_test_db = True\n",
    "import os\n",
    "if os.path.exists(\"tests.sqlite\"): #Если файл уже есть, заморачиваться с перезаполнением не будем\n",
    "    create_new_test_db = False"
   ]
  },
  {
   "cell_type": "markdown",
   "metadata": {},
   "source": [
    "## Создаем тестовую БД методом класса dbModule"
   ]
  },
  {
   "cell_type": "code",
   "execution_count": 2,
   "metadata": {},
   "outputs": [],
   "source": [
    "myDB = db_module.dbModule(dbstring = 'sqlite:///tests.sqlite')\n",
    "if create_new_test_db:\n",
    "    myDB.create_sqlite_file()"
   ]
  },
  {
   "cell_type": "markdown",
   "metadata": {},
   "source": [
    "## Напечатаем названия таблиц в БД для проверки"
   ]
  },
  {
   "cell_type": "code",
   "execution_count": 3,
   "metadata": {},
   "outputs": [
    {
     "data": {
      "text/plain": [
       "dict_keys(['image', 'dataset', 'category', 'license', 'annotation', 'trainResult', 'categoryToModel', 'model'])"
      ]
     },
     "execution_count": 3,
     "metadata": {},
     "output_type": "execute_result"
    }
   ],
   "source": [
    "db_module.Base.metadata.tables.keys()"
   ]
  },
  {
   "cell_type": "markdown",
   "metadata": {},
   "source": [
    "## Заполним базу аннотациями из COCO -- это необходимо делать один раз"
   ]
  },
  {
   "cell_type": "code",
   "execution_count": 4,
   "metadata": {},
   "outputs": [
    {
     "name": "stdout",
     "output_type": "stream",
     "text": [
      "loading annotations into memory...\n",
      "Done (t=19.99s)\n",
      "creating index...\n",
      "index created!\n",
      "Adding 860001 annotations in COCO format to DB\n",
      "Adding images\n",
      "Done adding images, adding annotations\n",
      "DB filled in 262.6631009578705 seconds\n"
     ]
    }
   ],
   "source": [
    "dataDir=r\"D:\\Work\\AutoML\\annotations_trainval2017\"\n",
    "dataType='train2017'\n",
    "annFile=r\"{}\\annotations\\instances_{}.json\".format(dataDir,dataType)\n",
    "\n",
    "\n",
    "import time\n",
    "\n",
    "begin = time.time()\n",
    "if create_new_test_db:\n",
    "    myDB.fill_coco(annFile, firstTime = True) #Надо указать True чтобы подгрузить категории \n",
    "end = time.time()\n",
    "\n",
    "print('DB filled in', end-begin, 'seconds')"
   ]
  },
  {
   "cell_type": "code",
   "execution_count": 5,
   "metadata": {},
   "outputs": [],
   "source": [
    "myDB.add_model_record(task_type = \"detection\", categories = ['cat','mouse'], model_address = './TrainedNN/New_NetworkFirst', metrics = {'accuracy':0.91}, history_address = '')\n",
    "myDB.add_model_record(task_type = \"classification\", categories = ['cat','dog'], model_address = './TrainedNN/New_NetworkPP', metrics = {'accuracy':0.91}, history_address = '')\n",
    "myDB.add_model_record(task_type = \"classification\", categories = ['cat','dog'], model_address = './TrainedNN/New_NetworkFirst', metrics = {'accuracy':0.80}, history_address = '')\n",
    "myDB.add_model_record(task_type = \"classification\", categories = ['cat','mouse'], model_address = './TrainedNN/New_NetworkPP', metrics = {'accuracy':0.93}, history_address = '')\n",
    "myDB.add_model_record(task_type = \"classification\", categories = ['cat','mouse'], model_address = './TrainedNN/New_NetworkFirst', metrics = {'loss':0.93}, history_address = '')"
   ]
  },
  {
   "cell_type": "code",
   "execution_count": 6,
   "metadata": {},
   "outputs": [],
   "source": [
    "model = myDB.sess.query(db_module.dbModule.Model).join(db_module.dbModule.TrainResult).filter(db_module.dbModule.TrainResult.metric_name.in_(['loss','sd']))"
   ]
  },
  {
   "cell_type": "code",
   "execution_count": 7,
   "metadata": {},
   "outputs": [
    {
     "data": {
      "text/plain": [
       "[<db_module.dbModule.Model at 0x22f79e8f9c8>]"
      ]
     },
     "execution_count": 7,
     "metadata": {},
     "output_type": "execute_result"
    }
   ],
   "source": [
    "model.all()"
   ]
  },
  {
   "cell_type": "code",
   "execution_count": 10,
   "metadata": {},
   "outputs": [
    {
     "data": {
      "text/html": [
       "<div>\n",
       "<style scoped>\n",
       "    .dataframe tbody tr th:only-of-type {\n",
       "        vertical-align: middle;\n",
       "    }\n",
       "\n",
       "    .dataframe tbody tr th {\n",
       "        vertical-align: top;\n",
       "    }\n",
       "\n",
       "    .dataframe thead th {\n",
       "        text-align: right;\n",
       "    }\n",
       "</style>\n",
       "<table border=\"1\" class=\"dataframe\">\n",
       "  <thead>\n",
       "    <tr style=\"text-align: right;\">\n",
       "      <th></th>\n",
       "      <th>ID</th>\n",
       "      <th>model_address</th>\n",
       "      <th>task_type</th>\n",
       "      <th>aux</th>\n",
       "      <th>ID</th>\n",
       "      <th>metric_name</th>\n",
       "      <th>metric_value</th>\n",
       "      <th>model_id</th>\n",
       "      <th>history_address</th>\n",
       "      <th>aux</th>\n",
       "    </tr>\n",
       "  </thead>\n",
       "  <tbody>\n",
       "    <tr>\n",
       "      <th>0</th>\n",
       "      <td>2</td>\n",
       "      <td>C:\\Users\\fires\\repos\\ann-automl\\TrainedNN\\New_...</td>\n",
       "      <td>classification</td>\n",
       "      <td></td>\n",
       "      <td>4</td>\n",
       "      <td>accuracy</td>\n",
       "      <td>0.93</td>\n",
       "      <td>2</td>\n",
       "      <td>C:\\Users\\fires\\repos\\ann-automl</td>\n",
       "      <td></td>\n",
       "    </tr>\n",
       "  </tbody>\n",
       "</table>\n",
       "</div>"
      ],
      "text/plain": [
       "   ID                                      model_address       task_type aux  \\\n",
       "0   2  C:\\Users\\fires\\repos\\ann-automl\\TrainedNN\\New_...  classification       \n",
       "\n",
       "   ID metric_name  metric_value  model_id                  history_address aux  \n",
       "0   4    accuracy          0.93         2  C:\\Users\\fires\\repos\\ann-automl      "
      ]
     },
     "execution_count": 10,
     "metadata": {},
     "output_type": "execute_result"
    }
   ],
   "source": [
    "myDB.get_models_by_filter({'min_metrics':{'accuracy':0.92}, 'categories':['cat','mouse']})"
   ]
  },
  {
   "cell_type": "code",
   "execution_count": 9,
   "metadata": {},
   "outputs": [
    {
     "data": {
      "text/plain": [
       "[<db_module.dbModule.Model at 0x22f1c031248>,\n",
       " <db_module.dbModule.Model at 0x22f79e8f9c8>]"
      ]
     },
     "execution_count": 9,
     "metadata": {},
     "output_type": "execute_result"
    }
   ],
   "source": [
    "myDB.sess.query(db_module.dbModule.Model).join(db_module.dbModule.CategoryToModel).join(db_module.dbModule.Category).filter(db_module.dbModule.Category.name == 'dog').all()"
   ]
  },
  {
   "cell_type": "code",
   "execution_count": null,
   "metadata": {},
   "outputs": [],
   "source": []
  }
 ],
 "metadata": {
  "kernelspec": {
   "display_name": "Python 3",
   "language": "python",
   "name": "python3"
  },
  "language_info": {
   "codemirror_mode": {
    "name": "ipython",
    "version": 3
   },
   "file_extension": ".py",
   "mimetype": "text/x-python",
   "name": "python",
   "nbconvert_exporter": "python",
   "pygments_lexer": "ipython3",
   "version": "3.7.6"
  }
 },
 "nbformat": 4,
 "nbformat_minor": 4
}
